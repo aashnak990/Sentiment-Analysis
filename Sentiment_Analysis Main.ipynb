{
  "nbformat": 4,
  "nbformat_minor": 0,
  "metadata": {
    "kernelspec": {
      "display_name": "Python 3",
      "language": "python",
      "name": "python3"
    },
    "language_info": {
      "codemirror_mode": {
        "name": "ipython",
        "version": 3
      },
      "file_extension": ".py",
      "mimetype": "text/x-python",
      "name": "python",
      "nbconvert_exporter": "python",
      "pygments_lexer": "ipython3",
      "version": "3.7.6"
    },
    "colab": {
      "name": "Sentiment_Analysis.ipynb",
      "provenance": [],
      "toc_visible": true
    },
    "accelerator": "GPU"
  },
  "cells": [
    {
      "cell_type": "markdown",
      "metadata": {
        "id": "pg3L4wn8HJIO",
        "colab_type": "text"
      },
      "source": [
        "# Final Project: Sentiment Analysis on Covid-19 Tweets  \n",
        "**Math189Z – Covid-19: Data Analytics and Machine Learning**  \n",
        "Nico Espinosa Dice  \n",
        "*May, 2020*  "
      ]
    },
    {
      "cell_type": "markdown",
      "metadata": {
        "id": "ys_0n1k8HJIQ",
        "colab_type": "text"
      },
      "source": [
        "## Sources\n",
        "This project uses theory presented in the following academic papers:  \n",
        "- [Sentiment Analysis of Twitter Data](http://www.cs.columbia.edu/~julia/papers/Agarwaletal11.pdf) (1)\n",
        "\n",
        "- [Sentiment Analysis of Twitter Data](https://arxiv.org/pdf/1711.10377.pdf) (2)\n",
        "\n",
        "- [Covid-19 Tweets Dataset and Statistics](https://ieee-dataport.org/open-access/corona-virus-covid-19-tweets-dataset)\n",
        "\n",
        "\n",
        "This project uses code that was inspired and adapted from the following open-source resources:  \n",
        "- [Twitter Sentiment Analysis with Explanation (Naive Bayes)](https://medium.com/@koshut.takatsuji/twitter-sentiment-analysis-with-full-code-and-explanation-naive-bayes-a380b38f036b)\n",
        "\n",
        "- [Creating The Twitter Sentiment Analysis Program in Python with Naive Bayes Classification](https://towardsdatascience.com/creating-the-twitter-sentiment-analysis-program-in-python-with-naive-bayes-classification-672e5589a7ed)\n",
        "\n",
        "- [How to Do Sentiment Analysis on a Twitter Account](https://medium.com/better-programming/twitter-sentiment-analysis-15d8892c0082)\n",
        "\n",
        "- [Comprehensive Hands on Guide to Twitter Sentiment Analysis with dataset and code](https://www.analyticsvidhya.com/blog/2018/07/hands-on-sentiment-analysis-dataset-python/)\n",
        "\n",
        "### Data\n",
        "The dataset of Tweets was provided by Professor Gu as part of HMC Math189Z. The data is available [here](https://math189covid19.github.io/resources.html). The original source of the data is unknown at this time.\n",
        "\n",
        "The Twitter sentiment corpus was provided in this [public repository](https://github.com/zfz/twitter_corpus).\n",
        "\n",
        "The Covid-19 related data was provided in this [public repository](https://data.humdata.org/dataset/novel-coronavirus-2019-ncov-cases/resource/d037a9e3-69d8-4452-bc51-3e225fca75c3)."
      ]
    },
    {
      "cell_type": "markdown",
      "metadata": {
        "id": "DtlWmrBtHJIQ",
        "colab_type": "text"
      },
      "source": [
        "## Importing Data"
      ]
    },
    {
      "cell_type": "code",
      "metadata": {
        "id": "MZAEE9wnHJIR",
        "colab_type": "code",
        "colab": {
          "base_uri": "https://localhost:8080/",
          "height": 101
        },
        "outputId": "94427b5f-0f61-4757-aad7-2dad7e1e4d1b"
      },
      "source": [
        "# Imports the necessary libraries\n",
        "import numpy as np\n",
        "import pandas as pd\n",
        "import re\n",
        "from textblob import TextBlob\n",
        "import matplotlib.pyplot as plt\n",
        "import nltk\n",
        "from nltk.tokenize import word_tokenize\n",
        "from string import punctuation \n",
        "from nltk.corpus import stopwords\n",
        "from sklearn.model_selection import train_test_split\n",
        "from sklearn import preprocessing\n",
        "from collections import Counter\n",
        "nltk.download('stopwords')\n",
        "nltk.download('punkt')"
      ],
      "execution_count": 1,
      "outputs": [
        {
          "output_type": "stream",
          "text": [
            "[nltk_data] Downloading package stopwords to /root/nltk_data...\n",
            "[nltk_data]   Unzipping corpora/stopwords.zip.\n",
            "[nltk_data] Downloading package punkt to /root/nltk_data...\n",
            "[nltk_data]   Unzipping tokenizers/punkt.zip.\n"
          ],
          "name": "stdout"
        },
        {
          "output_type": "execute_result",
          "data": {
            "text/plain": [
              "True"
            ]
          },
          "metadata": {
            "tags": []
          },
          "execution_count": 1
        }
      ]
    },
    {
      "cell_type": "code",
      "metadata": {
        "id": "KotdHB_jHJIW",
        "colab_type": "code",
        "colab": {}
      },
      "source": [
        "# Imports data into Pandas dataframe\n",
        "feb_tweets = pd.read_csv('feb_data.csv')\n",
        "march_tweets = pd.read_csv('march_data.csv')\n",
        "april_tweets = pd.read_csv('april_data.csv')"
      ],
      "execution_count": 2,
      "outputs": []
    },
    {
      "cell_type": "code",
      "metadata": {
        "id": "Dasp13wNHJIZ",
        "colab_type": "code",
        "colab": {}
      },
      "source": [
        "# Sets column names of dataframes and drop unnecessary column\n",
        "feb_tweets.columns, march_tweets.columns, april_tweets.columns = ['Number', \"Date\", \"Text\"], ['Number', \"Date\", \"Text\"], ['Number', \"Date\", \"Text\"]\n",
        "feb_tweets = feb_tweets.drop(columns = [\"Number\"])\n",
        "march_tweets = march_tweets.drop(columns = [\"Number\"])\n",
        "april_tweets = april_tweets.drop(columns = [\"Number\"])"
      ],
      "execution_count": 3,
      "outputs": []
    },
    {
      "cell_type": "code",
      "metadata": {
        "id": "9WIL8ekGHJIc",
        "colab_type": "code",
        "colab": {}
      },
      "source": [
        "feb_tweets[\"Month\"] = \"February\"\n",
        "march_tweets[\"Month\"] = \"March\"\n",
        "april_tweets[\"Month\"] = \"April\"\n",
        "\n",
        "data = pd.concat([feb_tweets, march_tweets, april_tweets], ignore_index=True)"
      ],
      "execution_count": 4,
      "outputs": []
    },
    {
      "cell_type": "markdown",
      "metadata": {
        "id": "qukFc9AdHJIe",
        "colab_type": "text"
      },
      "source": [
        "## Exploratory Data Analysis"
      ]
    },
    {
      "cell_type": "code",
      "metadata": {
        "id": "NbAVGAnfHJIf",
        "colab_type": "code",
        "colab": {
          "base_uri": "https://localhost:8080/",
          "height": 195
        },
        "outputId": "c6a982cc-7838-4977-b7d2-4909cd74a7f9"
      },
      "source": [
        "feb_tweets.head()"
      ],
      "execution_count": 5,
      "outputs": [
        {
          "output_type": "execute_result",
          "data": {
            "text/html": [
              "<div>\n",
              "<style scoped>\n",
              "    .dataframe tbody tr th:only-of-type {\n",
              "        vertical-align: middle;\n",
              "    }\n",
              "\n",
              "    .dataframe tbody tr th {\n",
              "        vertical-align: top;\n",
              "    }\n",
              "\n",
              "    .dataframe thead th {\n",
              "        text-align: right;\n",
              "    }\n",
              "</style>\n",
              "<table border=\"1\" class=\"dataframe\">\n",
              "  <thead>\n",
              "    <tr style=\"text-align: right;\">\n",
              "      <th></th>\n",
              "      <th>Date</th>\n",
              "      <th>Text</th>\n",
              "      <th>Month</th>\n",
              "    </tr>\n",
              "  </thead>\n",
              "  <tbody>\n",
              "    <tr>\n",
              "      <th>0</th>\n",
              "      <td>2020-02-19 23:59:11</td>\n",
              "      <td>Head nurse Cai Liping of Wuchang Hospital died...</td>\n",
              "      <td>February</td>\n",
              "    </tr>\n",
              "    <tr>\n",
              "      <th>1</th>\n",
              "      <td>2020-02-19 23:59:00</td>\n",
              "      <td>This bacteria-killing UV light robot helps a W...</td>\n",
              "      <td>February</td>\n",
              "    </tr>\n",
              "    <tr>\n",
              "      <th>2</th>\n",
              "      <td>2020-02-19 23:56:52</td>\n",
              "      <td>For those that are into the business side of s...</td>\n",
              "      <td>February</td>\n",
              "    </tr>\n",
              "    <tr>\n",
              "      <th>3</th>\n",
              "      <td>2020-02-19 23:55:34</td>\n",
              "      <td>How to fight against #coronavirus in #japan</td>\n",
              "      <td>February</td>\n",
              "    </tr>\n",
              "    <tr>\n",
              "      <th>4</th>\n",
              "      <td>2020-02-19 23:53:03</td>\n",
              "      <td>Diseases like covid-19 are deadlier in non-dem...</td>\n",
              "      <td>February</td>\n",
              "    </tr>\n",
              "  </tbody>\n",
              "</table>\n",
              "</div>"
            ],
            "text/plain": [
              "                  Date  ...     Month\n",
              "0  2020-02-19 23:59:11  ...  February\n",
              "1  2020-02-19 23:59:00  ...  February\n",
              "2  2020-02-19 23:56:52  ...  February\n",
              "3  2020-02-19 23:55:34  ...  February\n",
              "4  2020-02-19 23:53:03  ...  February\n",
              "\n",
              "[5 rows x 3 columns]"
            ]
          },
          "metadata": {
            "tags": []
          },
          "execution_count": 5
        }
      ]
    },
    {
      "cell_type": "code",
      "metadata": {
        "id": "rOr9dTmZHJIi",
        "colab_type": "code",
        "colab": {
          "base_uri": "https://localhost:8080/",
          "height": 195
        },
        "outputId": "bf0a21e1-c624-4b58-8cc7-fcc6fb72cbc0"
      },
      "source": [
        "data.head()"
      ],
      "execution_count": 6,
      "outputs": [
        {
          "output_type": "execute_result",
          "data": {
            "text/html": [
              "<div>\n",
              "<style scoped>\n",
              "    .dataframe tbody tr th:only-of-type {\n",
              "        vertical-align: middle;\n",
              "    }\n",
              "\n",
              "    .dataframe tbody tr th {\n",
              "        vertical-align: top;\n",
              "    }\n",
              "\n",
              "    .dataframe thead th {\n",
              "        text-align: right;\n",
              "    }\n",
              "</style>\n",
              "<table border=\"1\" class=\"dataframe\">\n",
              "  <thead>\n",
              "    <tr style=\"text-align: right;\">\n",
              "      <th></th>\n",
              "      <th>Date</th>\n",
              "      <th>Text</th>\n",
              "      <th>Month</th>\n",
              "    </tr>\n",
              "  </thead>\n",
              "  <tbody>\n",
              "    <tr>\n",
              "      <th>0</th>\n",
              "      <td>2020-02-19 23:59:11</td>\n",
              "      <td>Head nurse Cai Liping of Wuchang Hospital died...</td>\n",
              "      <td>February</td>\n",
              "    </tr>\n",
              "    <tr>\n",
              "      <th>1</th>\n",
              "      <td>2020-02-19 23:59:00</td>\n",
              "      <td>This bacteria-killing UV light robot helps a W...</td>\n",
              "      <td>February</td>\n",
              "    </tr>\n",
              "    <tr>\n",
              "      <th>2</th>\n",
              "      <td>2020-02-19 23:56:52</td>\n",
              "      <td>For those that are into the business side of s...</td>\n",
              "      <td>February</td>\n",
              "    </tr>\n",
              "    <tr>\n",
              "      <th>3</th>\n",
              "      <td>2020-02-19 23:55:34</td>\n",
              "      <td>How to fight against #coronavirus in #japan</td>\n",
              "      <td>February</td>\n",
              "    </tr>\n",
              "    <tr>\n",
              "      <th>4</th>\n",
              "      <td>2020-02-19 23:53:03</td>\n",
              "      <td>Diseases like covid-19 are deadlier in non-dem...</td>\n",
              "      <td>February</td>\n",
              "    </tr>\n",
              "  </tbody>\n",
              "</table>\n",
              "</div>"
            ],
            "text/plain": [
              "                  Date  ...     Month\n",
              "0  2020-02-19 23:59:11  ...  February\n",
              "1  2020-02-19 23:59:00  ...  February\n",
              "2  2020-02-19 23:56:52  ...  February\n",
              "3  2020-02-19 23:55:34  ...  February\n",
              "4  2020-02-19 23:53:03  ...  February\n",
              "\n",
              "[5 rows x 3 columns]"
            ]
          },
          "metadata": {
            "tags": []
          },
          "execution_count": 6
        }
      ]
    },
    {
      "cell_type": "markdown",
      "metadata": {
        "id": "cI5KiSY8HJIl",
        "colab_type": "text"
      },
      "source": [
        "## Data Preprocessing"
      ]
    },
    {
      "cell_type": "markdown",
      "metadata": {
        "id": "aznC1Y7YHJIl",
        "colab_type": "text"
      },
      "source": [
        "### Data Cleaning"
      ]
    },
    {
      "cell_type": "code",
      "metadata": {
        "id": "Kd0nAyjeHJIm",
        "colab_type": "code",
        "colab": {}
      },
      "source": [
        "new_stopwords = set(stopwords.words('english') + list(punctuation) + ['AT_USER','URL'])"
      ],
      "execution_count": 7,
      "outputs": []
    },
    {
      "cell_type": "code",
      "metadata": {
        "id": "LUWjrCXuHJIo",
        "colab_type": "code",
        "colab": {}
      },
      "source": [
        "# \"cleans\" the text by removing hyperlinks, hashtags, mentions, and retweets\n",
        "# This function was suggested here: https://medium.com/better-programming/twitter-sentiment-analysis-15d8892c0082\n",
        "def cleanText(text):\n",
        "    text = text.lower() # Makes text lowercase\n",
        "    text = re.sub('https?:\\/\\/\\S+', '', text) # Removes hyperlinks\n",
        "    text = re.sub('#', '', text) # Removes hashtags\n",
        "    text = re.sub('@[A-Za-z0–9]+', '', text) # Removes mentions (@)\n",
        "    text = re.sub('RT[\\s]+', '', text) # Removes \"RT\"\n",
        "    return text"
      ],
      "execution_count": 8,
      "outputs": []
    },
    {
      "cell_type": "code",
      "metadata": {
        "id": "0rQiRR5zHJIq",
        "colab_type": "code",
        "colab": {}
      },
      "source": [
        "def convertToList(text):\n",
        "    text = word_tokenize(text)\n",
        "    return [word for word in text if word not in new_stopwords] # Source for this line: https://towardsdatascience.com/creating-the-twitter-sentiment-analysis-program-in-python-with-naive-bayes-classification-672e5589a7ed"
      ],
      "execution_count": 12,
      "outputs": []
    },
    {
      "cell_type": "code",
      "metadata": {
        "id": "bimpTuEoHJIs",
        "colab_type": "code",
        "colab": {}
      },
      "source": [
        "# Applys cleanText() to every Tweet in dataframe\n",
        "data[\"Text\"] = data[\"Text\"].apply(cleanText)\n",
        "data[\"List of Words\"] = data[\"Text\"].apply(convertToList)"
      ],
      "execution_count": 13,
      "outputs": []
    },
    {
      "cell_type": "code",
      "metadata": {
        "id": "5Cfor2uOHJIu",
        "colab_type": "code",
        "colab": {}
      },
      "source": [
        "def cleanDate(date):\n",
        "    month = date[5:7]\n",
        "    day = date[8:10]\n",
        "    \n",
        "    if month[0] == \"0\":\n",
        "        month = month[1]\n",
        "    if day[0] == \"0\":\n",
        "        day = day[1]\n",
        "    \n",
        "    return month + \"/\" + day + \"/20\""
      ],
      "execution_count": 14,
      "outputs": []
    },
    {
      "cell_type": "code",
      "metadata": {
        "id": "huO8ZbULHJIw",
        "colab_type": "code",
        "colab": {}
      },
      "source": [
        "data[\"Date\"] = data[\"Date\"].apply(cleanDate)"
      ],
      "execution_count": 15,
      "outputs": []
    },
    {
      "cell_type": "code",
      "metadata": {
        "id": "P3BU41G4HJIy",
        "colab_type": "code",
        "colab": {
          "base_uri": "https://localhost:8080/",
          "height": 195
        },
        "outputId": "8e371291-ad33-4fef-85d6-664efb7a2acd"
      },
      "source": [
        "data.tail()"
      ],
      "execution_count": 16,
      "outputs": [
        {
          "output_type": "execute_result",
          "data": {
            "text/html": [
              "<div>\n",
              "<style scoped>\n",
              "    .dataframe tbody tr th:only-of-type {\n",
              "        vertical-align: middle;\n",
              "    }\n",
              "\n",
              "    .dataframe tbody tr th {\n",
              "        vertical-align: top;\n",
              "    }\n",
              "\n",
              "    .dataframe thead th {\n",
              "        text-align: right;\n",
              "    }\n",
              "</style>\n",
              "<table border=\"1\" class=\"dataframe\">\n",
              "  <thead>\n",
              "    <tr style=\"text-align: right;\">\n",
              "      <th></th>\n",
              "      <th>Date</th>\n",
              "      <th>Text</th>\n",
              "      <th>Month</th>\n",
              "      <th>List of Words</th>\n",
              "    </tr>\n",
              "  </thead>\n",
              "  <tbody>\n",
              "    <tr>\n",
              "      <th>7495</th>\n",
              "      <td>4/4/20</td>\n",
              "      <td>breaking: new york \"accidentally\" delivered co...</td>\n",
              "      <td>April</td>\n",
              "      <td>[breaking, new, york, ``, accidentally, '', de...</td>\n",
              "    </tr>\n",
              "    <tr>\n",
              "      <th>7496</th>\n",
              "      <td>4/4/20</td>\n",
              "      <td>with fewer people around because of coronaviru...</td>\n",
              "      <td>April</td>\n",
              "      <td>[fewer, people, around, coronavirus, endangere...</td>\n",
              "    </tr>\n",
              "    <tr>\n",
              "      <th>7497</th>\n",
              "      <td>4/4/20</td>\n",
              "      <td>if joe biden is talking about the trump admini...</td>\n",
              "      <td>April</td>\n",
              "      <td>[joe, biden, talking, trump, administration, ’...</td>\n",
              "    </tr>\n",
              "    <tr>\n",
              "      <th>7498</th>\n",
              "      <td>4/4/20</td>\n",
              "      <td>in case you know anyone looking for a job, par...</td>\n",
              "      <td>April</td>\n",
              "      <td>[case, know, anyone, looking, job, partners, h...</td>\n",
              "    </tr>\n",
              "    <tr>\n",
              "      <th>7499</th>\n",
              "      <td>4/4/20</td>\n",
              "      <td>atleast now we all know where lisbon got its c...</td>\n",
              "      <td>April</td>\n",
              "      <td>[atleast, know, lisbon, got, corona, virus, mo...</td>\n",
              "    </tr>\n",
              "  </tbody>\n",
              "</table>\n",
              "</div>"
            ],
            "text/plain": [
              "        Date  ...                                      List of Words\n",
              "7495  4/4/20  ...  [breaking, new, york, ``, accidentally, '', de...\n",
              "7496  4/4/20  ...  [fewer, people, around, coronavirus, endangere...\n",
              "7497  4/4/20  ...  [joe, biden, talking, trump, administration, ’...\n",
              "7498  4/4/20  ...  [case, know, anyone, looking, job, partners, h...\n",
              "7499  4/4/20  ...  [atleast, know, lisbon, got, corona, virus, mo...\n",
              "\n",
              "[5 rows x 4 columns]"
            ]
          },
          "metadata": {
            "tags": []
          },
          "execution_count": 16
        }
      ]
    },
    {
      "cell_type": "markdown",
      "metadata": {
        "id": "16wOK7cSHJI0",
        "colab_type": "text"
      },
      "source": [
        "## Feature Engineering"
      ]
    },
    {
      "cell_type": "markdown",
      "metadata": {
        "id": "vjuSpd87HJI0",
        "colab_type": "text"
      },
      "source": [
        "### Polarity\n",
        "-1 → extreme negative,  \n",
        "0 → neutral,  \n",
        "1 → extreme positive."
      ]
    },
    {
      "cell_type": "code",
      "metadata": {
        "id": "TNUi0yo7HJI1",
        "colab_type": "code",
        "colab": {}
      },
      "source": [
        "# Returns the polarity of the Tweet's text\n",
        "def getPolarity(text):\n",
        "   return  TextBlob(text).sentiment.polarity"
      ],
      "execution_count": 17,
      "outputs": []
    },
    {
      "cell_type": "code",
      "metadata": {
        "id": "tOV4XR6SHJI2",
        "colab_type": "code",
        "colab": {}
      },
      "source": [
        "# Creates a new column containing the subjectivity of every Tweet\n",
        "data['Polarity'] = data['Text'].apply(getPolarity)"
      ],
      "execution_count": 18,
      "outputs": []
    },
    {
      "cell_type": "markdown",
      "metadata": {
        "id": "kqOsO2khHJI4",
        "colab_type": "text"
      },
      "source": [
        "### Subjectivity\n",
        "0 → fact,  \n",
        "1 → opinion."
      ]
    },
    {
      "cell_type": "code",
      "metadata": {
        "id": "d88lrV4UHJI5",
        "colab_type": "code",
        "colab": {}
      },
      "source": [
        "# Returns the subjectivity of the Tweet's text\n",
        "def getSubjectivity(text):\n",
        "   return TextBlob(text).sentiment.subjectivity"
      ],
      "execution_count": 19,
      "outputs": []
    },
    {
      "cell_type": "code",
      "metadata": {
        "id": "KitpW2ouHJI7",
        "colab_type": "code",
        "colab": {}
      },
      "source": [
        "# Creates a new column containing the subjectivity of every Tweet\n",
        "data[\"Subjectivity\"] = data[\"Text\"].apply(getSubjectivity)"
      ],
      "execution_count": 20,
      "outputs": []
    },
    {
      "cell_type": "markdown",
      "metadata": {
        "id": "HH_0_dHCHJI8",
        "colab_type": "text"
      },
      "source": [
        "## Sentiment Analysis\n",
        "Polarity < 0 → negative,  \n",
        "Polarity == 0 → neutral,  \n",
        "Polarity > 0 → positive. "
      ]
    },
    {
      "cell_type": "code",
      "metadata": {
        "id": "oY4tNcezHJI9",
        "colab_type": "code",
        "colab": {}
      },
      "source": [
        "# Returns the analysis of each Tweet's text\n",
        "def getSentiment(polarity):\n",
        "    if polarity < 0:\n",
        "      return 'Negative'\n",
        "    elif polarity == 0:\n",
        "      return 'Neutral'\n",
        "    else:\n",
        "      return 'Positive'"
      ],
      "execution_count": 21,
      "outputs": []
    },
    {
      "cell_type": "code",
      "metadata": {
        "id": "FWz6yYypHJI_",
        "colab_type": "code",
        "colab": {}
      },
      "source": [
        "data['Analysis'] = data['Polarity'].apply(getSentiment)"
      ],
      "execution_count": 22,
      "outputs": []
    },
    {
      "cell_type": "code",
      "metadata": {
        "id": "yHTKxUIaHJJC",
        "colab_type": "code",
        "colab": {
          "base_uri": "https://localhost:8080/",
          "height": 195
        },
        "outputId": "da0be41a-5364-4ed3-f77d-aaf0c172bdbf"
      },
      "source": [
        "data.head()"
      ],
      "execution_count": 23,
      "outputs": [
        {
          "output_type": "execute_result",
          "data": {
            "text/html": [
              "<div>\n",
              "<style scoped>\n",
              "    .dataframe tbody tr th:only-of-type {\n",
              "        vertical-align: middle;\n",
              "    }\n",
              "\n",
              "    .dataframe tbody tr th {\n",
              "        vertical-align: top;\n",
              "    }\n",
              "\n",
              "    .dataframe thead th {\n",
              "        text-align: right;\n",
              "    }\n",
              "</style>\n",
              "<table border=\"1\" class=\"dataframe\">\n",
              "  <thead>\n",
              "    <tr style=\"text-align: right;\">\n",
              "      <th></th>\n",
              "      <th>Date</th>\n",
              "      <th>Text</th>\n",
              "      <th>Month</th>\n",
              "      <th>List of Words</th>\n",
              "      <th>Polarity</th>\n",
              "      <th>Subjectivity</th>\n",
              "      <th>Analysis</th>\n",
              "    </tr>\n",
              "  </thead>\n",
              "  <tbody>\n",
              "    <tr>\n",
              "      <th>0</th>\n",
              "      <td>2/19/20</td>\n",
              "      <td>head nurse cai liping of wuchang hospital died...</td>\n",
              "      <td>February</td>\n",
              "      <td>[head, nurse, cai, liping, wuchang, hospital, ...</td>\n",
              "      <td>0.000000</td>\n",
              "      <td>0.095833</td>\n",
              "      <td>Neutral</td>\n",
              "    </tr>\n",
              "    <tr>\n",
              "      <th>1</th>\n",
              "      <td>2/19/20</td>\n",
              "      <td>this bacteria-killing uv light robot helps a w...</td>\n",
              "      <td>February</td>\n",
              "      <td>[bacteria-killing, uv, light, robot, helps, wu...</td>\n",
              "      <td>0.400000</td>\n",
              "      <td>0.700000</td>\n",
              "      <td>Positive</td>\n",
              "    </tr>\n",
              "    <tr>\n",
              "      <th>2</th>\n",
              "      <td>2/19/20</td>\n",
              "      <td>for those that are into the business side of s...</td>\n",
              "      <td>February</td>\n",
              "      <td>[business, side, sneakers, adidas, business, r...</td>\n",
              "      <td>-0.126852</td>\n",
              "      <td>0.354630</td>\n",
              "      <td>Negative</td>\n",
              "    </tr>\n",
              "    <tr>\n",
              "      <th>3</th>\n",
              "      <td>2/19/20</td>\n",
              "      <td>how to fight against coronavirus in japan</td>\n",
              "      <td>February</td>\n",
              "      <td>[fight, coronavirus, japan]</td>\n",
              "      <td>0.000000</td>\n",
              "      <td>0.000000</td>\n",
              "      <td>Neutral</td>\n",
              "    </tr>\n",
              "    <tr>\n",
              "      <th>4</th>\n",
              "      <td>2/19/20</td>\n",
              "      <td>diseases like covid-19 are deadlier in non-dem...</td>\n",
              "      <td>February</td>\n",
              "      <td>[diseases, like, covid-19, deadlier, non-democ...</td>\n",
              "      <td>0.627500</td>\n",
              "      <td>0.832500</td>\n",
              "      <td>Positive</td>\n",
              "    </tr>\n",
              "  </tbody>\n",
              "</table>\n",
              "</div>"
            ],
            "text/plain": [
              "      Date  ...  Analysis\n",
              "0  2/19/20  ...   Neutral\n",
              "1  2/19/20  ...  Positive\n",
              "2  2/19/20  ...  Negative\n",
              "3  2/19/20  ...   Neutral\n",
              "4  2/19/20  ...  Positive\n",
              "\n",
              "[5 rows x 7 columns]"
            ]
          },
          "metadata": {
            "tags": []
          },
          "execution_count": 23
        }
      ]
    },
    {
      "cell_type": "markdown",
      "metadata": {
        "id": "6dxrQZTkHJJE",
        "colab_type": "text"
      },
      "source": [
        "## Analysis"
      ]
    },
    {
      "cell_type": "markdown",
      "metadata": {
        "id": "CsrV_20UHJJF",
        "colab_type": "text"
      },
      "source": [
        "### Analysis: Full Dataset"
      ]
    },
    {
      "cell_type": "code",
      "metadata": {
        "id": "y_PsVSYqHJJF",
        "colab_type": "code",
        "colab": {}
      },
      "source": [
        "positive_tweets = data.loc[data[\"Analysis\"] == \"Positive\"]\n",
        "neutral_tweets = data.loc[data[\"Analysis\"] == \"Neutral\"]\n",
        "negative_tweets = data.loc[data[\"Analysis\"] == \"Negative\"]"
      ],
      "execution_count": 24,
      "outputs": []
    },
    {
      "cell_type": "code",
      "metadata": {
        "id": "_wgtJ22OHJJI",
        "colab_type": "code",
        "colab": {}
      },
      "source": [
        "positive_tweets.reset_index(drop=True, inplace=True)\n",
        "neutral_tweets.reset_index(drop=True, inplace=True)\n",
        "negative_tweets.reset_index(drop=True, inplace=True)"
      ],
      "execution_count": 25,
      "outputs": []
    },
    {
      "cell_type": "code",
      "metadata": {
        "id": "7B6vGDDbHJJK",
        "colab_type": "code",
        "colab": {
          "base_uri": "https://localhost:8080/",
          "height": 195
        },
        "outputId": "80494f2a-4ea8-48e5-beb3-5a27d489b25f"
      },
      "source": [
        "positive_tweets.head()"
      ],
      "execution_count": 26,
      "outputs": [
        {
          "output_type": "execute_result",
          "data": {
            "text/html": [
              "<div>\n",
              "<style scoped>\n",
              "    .dataframe tbody tr th:only-of-type {\n",
              "        vertical-align: middle;\n",
              "    }\n",
              "\n",
              "    .dataframe tbody tr th {\n",
              "        vertical-align: top;\n",
              "    }\n",
              "\n",
              "    .dataframe thead th {\n",
              "        text-align: right;\n",
              "    }\n",
              "</style>\n",
              "<table border=\"1\" class=\"dataframe\">\n",
              "  <thead>\n",
              "    <tr style=\"text-align: right;\">\n",
              "      <th></th>\n",
              "      <th>Date</th>\n",
              "      <th>Text</th>\n",
              "      <th>Month</th>\n",
              "      <th>List of Words</th>\n",
              "      <th>Polarity</th>\n",
              "      <th>Subjectivity</th>\n",
              "      <th>Analysis</th>\n",
              "    </tr>\n",
              "  </thead>\n",
              "  <tbody>\n",
              "    <tr>\n",
              "      <th>0</th>\n",
              "      <td>2/19/20</td>\n",
              "      <td>this bacteria-killing uv light robot helps a w...</td>\n",
              "      <td>February</td>\n",
              "      <td>[bacteria-killing, uv, light, robot, helps, wu...</td>\n",
              "      <td>0.4000</td>\n",
              "      <td>0.7000</td>\n",
              "      <td>Positive</td>\n",
              "    </tr>\n",
              "    <tr>\n",
              "      <th>1</th>\n",
              "      <td>2/19/20</td>\n",
              "      <td>diseases like covid-19 are deadlier in non-dem...</td>\n",
              "      <td>February</td>\n",
              "      <td>[diseases, like, covid-19, deadlier, non-democ...</td>\n",
              "      <td>0.6275</td>\n",
              "      <td>0.8325</td>\n",
              "      <td>Positive</td>\n",
              "    </tr>\n",
              "    <tr>\n",
              "      <th>2</th>\n",
              "      <td>2/19/20</td>\n",
              "      <td>the world's most comprehensive site addressing...</td>\n",
              "      <td>February</td>\n",
              "      <td>[world, 's, comprehensive, site, addressing, a...</td>\n",
              "      <td>0.5000</td>\n",
              "      <td>0.5000</td>\n",
              "      <td>Positive</td>\n",
              "    </tr>\n",
              "    <tr>\n",
              "      <th>3</th>\n",
              "      <td>2/19/20</td>\n",
              "      <td>. \"12,000 people have died from influenza betw...</td>\n",
              "      <td>February</td>\n",
              "      <td>[``, 12,000, people, died, influenza, oct., 1,...</td>\n",
              "      <td>0.1600</td>\n",
              "      <td>0.5400</td>\n",
              "      <td>Positive</td>\n",
              "    </tr>\n",
              "    <tr>\n",
              "      <th>4</th>\n",
              "      <td>2/19/20</td>\n",
              "      <td>coronavirus chaos can prompt a needed rethink ...</td>\n",
              "      <td>February</td>\n",
              "      <td>[coronavirus, chaos, prompt, needed, rethink, ...</td>\n",
              "      <td>0.1000</td>\n",
              "      <td>0.1000</td>\n",
              "      <td>Positive</td>\n",
              "    </tr>\n",
              "  </tbody>\n",
              "</table>\n",
              "</div>"
            ],
            "text/plain": [
              "      Date  ...  Analysis\n",
              "0  2/19/20  ...  Positive\n",
              "1  2/19/20  ...  Positive\n",
              "2  2/19/20  ...  Positive\n",
              "3  2/19/20  ...  Positive\n",
              "4  2/19/20  ...  Positive\n",
              "\n",
              "[5 rows x 7 columns]"
            ]
          },
          "metadata": {
            "tags": []
          },
          "execution_count": 26
        }
      ]
    },
    {
      "cell_type": "code",
      "metadata": {
        "id": "e1vikQQCHJJN",
        "colab_type": "code",
        "colab": {
          "base_uri": "https://localhost:8080/",
          "height": 118
        },
        "outputId": "56cf9df3-4d97-4e02-8c1d-a96630b7bac6"
      },
      "source": [
        "neutral_tweets[\"Text\"].head()"
      ],
      "execution_count": 27,
      "outputs": [
        {
          "output_type": "execute_result",
          "data": {
            "text/plain": [
              "0    head nurse cai liping of wuchang hospital died...\n",
              "1            how to fight against coronavirus in japan\n",
              "2    indonesian mfa is pressuring japanese authorit...\n",
              "3    someone on nm senate floor just asked if \"coro...\n",
              "4    \"open access epidemiological data from the cov...\n",
              "Name: Text, dtype: object"
            ]
          },
          "metadata": {
            "tags": []
          },
          "execution_count": 27
        }
      ]
    },
    {
      "cell_type": "code",
      "metadata": {
        "id": "wTUlHoopKReB",
        "colab_type": "code",
        "colab": {
          "base_uri": "https://localhost:8080/",
          "height": 195
        },
        "outputId": "74de3f97-7a63-4e48-eb52-3e3cabbb1db6"
      },
      "source": [
        "neutral_tweets.head()"
      ],
      "execution_count": 29,
      "outputs": [
        {
          "output_type": "execute_result",
          "data": {
            "text/html": [
              "<div>\n",
              "<style scoped>\n",
              "    .dataframe tbody tr th:only-of-type {\n",
              "        vertical-align: middle;\n",
              "    }\n",
              "\n",
              "    .dataframe tbody tr th {\n",
              "        vertical-align: top;\n",
              "    }\n",
              "\n",
              "    .dataframe thead th {\n",
              "        text-align: right;\n",
              "    }\n",
              "</style>\n",
              "<table border=\"1\" class=\"dataframe\">\n",
              "  <thead>\n",
              "    <tr style=\"text-align: right;\">\n",
              "      <th></th>\n",
              "      <th>Date</th>\n",
              "      <th>Text</th>\n",
              "      <th>Month</th>\n",
              "      <th>List of Words</th>\n",
              "      <th>Polarity</th>\n",
              "      <th>Subjectivity</th>\n",
              "      <th>Analysis</th>\n",
              "    </tr>\n",
              "  </thead>\n",
              "  <tbody>\n",
              "    <tr>\n",
              "      <th>0</th>\n",
              "      <td>2/19/20</td>\n",
              "      <td>head nurse cai liping of wuchang hospital died...</td>\n",
              "      <td>February</td>\n",
              "      <td>[head, nurse, cai, liping, wuchang, hospital, ...</td>\n",
              "      <td>0.0</td>\n",
              "      <td>0.095833</td>\n",
              "      <td>Neutral</td>\n",
              "    </tr>\n",
              "    <tr>\n",
              "      <th>1</th>\n",
              "      <td>2/19/20</td>\n",
              "      <td>how to fight against coronavirus in japan</td>\n",
              "      <td>February</td>\n",
              "      <td>[fight, coronavirus, japan]</td>\n",
              "      <td>0.0</td>\n",
              "      <td>0.000000</td>\n",
              "      <td>Neutral</td>\n",
              "    </tr>\n",
              "    <tr>\n",
              "      <th>2</th>\n",
              "      <td>2/19/20</td>\n",
              "      <td>indonesian mfa is pressuring japanese authorit...</td>\n",
              "      <td>February</td>\n",
              "      <td>[indonesian, mfa, pressuring, japanese, author...</td>\n",
              "      <td>0.0</td>\n",
              "      <td>0.000000</td>\n",
              "      <td>Neutral</td>\n",
              "    </tr>\n",
              "    <tr>\n",
              "      <th>3</th>\n",
              "      <td>2/19/20</td>\n",
              "      <td>someone on nm senate floor just asked if \"coro...</td>\n",
              "      <td>February</td>\n",
              "      <td>[someone, nm, senate, floor, asked, ``, corona...</td>\n",
              "      <td>0.0</td>\n",
              "      <td>0.000000</td>\n",
              "      <td>Neutral</td>\n",
              "    </tr>\n",
              "    <tr>\n",
              "      <th>4</th>\n",
              "      <td>2/19/20</td>\n",
              "      <td>\"open access epidemiological data from the cov...</td>\n",
              "      <td>February</td>\n",
              "      <td>[``, open, access, epidemiological, data, covi...</td>\n",
              "      <td>0.0</td>\n",
              "      <td>0.500000</td>\n",
              "      <td>Neutral</td>\n",
              "    </tr>\n",
              "  </tbody>\n",
              "</table>\n",
              "</div>"
            ],
            "text/plain": [
              "      Date  ... Analysis\n",
              "0  2/19/20  ...  Neutral\n",
              "1  2/19/20  ...  Neutral\n",
              "2  2/19/20  ...  Neutral\n",
              "3  2/19/20  ...  Neutral\n",
              "4  2/19/20  ...  Neutral\n",
              "\n",
              "[5 rows x 7 columns]"
            ]
          },
          "metadata": {
            "tags": []
          },
          "execution_count": 29
        }
      ]
    },
    {
      "cell_type": "code",
      "metadata": {
        "id": "CXz5tc5JHJJP",
        "colab_type": "code",
        "colab": {
          "base_uri": "https://localhost:8080/",
          "height": 195
        },
        "outputId": "fc0637e0-1a0d-4122-e1e0-03032c321908"
      },
      "source": [
        "negative_tweets.head()"
      ],
      "execution_count": 28,
      "outputs": [
        {
          "output_type": "execute_result",
          "data": {
            "text/html": [
              "<div>\n",
              "<style scoped>\n",
              "    .dataframe tbody tr th:only-of-type {\n",
              "        vertical-align: middle;\n",
              "    }\n",
              "\n",
              "    .dataframe tbody tr th {\n",
              "        vertical-align: top;\n",
              "    }\n",
              "\n",
              "    .dataframe thead th {\n",
              "        text-align: right;\n",
              "    }\n",
              "</style>\n",
              "<table border=\"1\" class=\"dataframe\">\n",
              "  <thead>\n",
              "    <tr style=\"text-align: right;\">\n",
              "      <th></th>\n",
              "      <th>Date</th>\n",
              "      <th>Text</th>\n",
              "      <th>Month</th>\n",
              "      <th>List of Words</th>\n",
              "      <th>Polarity</th>\n",
              "      <th>Subjectivity</th>\n",
              "      <th>Analysis</th>\n",
              "    </tr>\n",
              "  </thead>\n",
              "  <tbody>\n",
              "    <tr>\n",
              "      <th>0</th>\n",
              "      <td>2/19/20</td>\n",
              "      <td>for those that are into the business side of s...</td>\n",
              "      <td>February</td>\n",
              "      <td>[business, side, sneakers, adidas, business, r...</td>\n",
              "      <td>-0.126852</td>\n",
              "      <td>0.354630</td>\n",
              "      <td>Negative</td>\n",
              "    </tr>\n",
              "    <tr>\n",
              "      <th>1</th>\n",
              "      <td>2/19/20</td>\n",
              "      <td>infectivity 60% those who need hospital care 1...</td>\n",
              "      <td>February</td>\n",
              "      <td>[infectivity, 60, need, hospital, care, 15, 2,...</td>\n",
              "      <td>-0.482143</td>\n",
              "      <td>0.628571</td>\n",
              "      <td>Negative</td>\n",
              "    </tr>\n",
              "    <tr>\n",
              "      <th>2</th>\n",
              "      <td>2/19/20</td>\n",
              "      <td>im rly annoyed with coronavirus racism my frie...</td>\n",
              "      <td>February</td>\n",
              "      <td>[im, rly, annoyed, coronavirus, racism, friend...</td>\n",
              "      <td>-0.104762</td>\n",
              "      <td>0.176190</td>\n",
              "      <td>Negative</td>\n",
              "    </tr>\n",
              "    <tr>\n",
              "      <th>3</th>\n",
              "      <td>2/19/20</td>\n",
              "      <td>\"one flu is bad enough. a second flu would be ...</td>\n",
              "      <td>February</td>\n",
              "      <td>[``, one, flu, bad, enough, second, flu, would...</td>\n",
              "      <td>-0.201477</td>\n",
              "      <td>0.575455</td>\n",
              "      <td>Negative</td>\n",
              "    </tr>\n",
              "    <tr>\n",
              "      <th>4</th>\n",
              "      <td>2/19/20</td>\n",
              "      <td>to all the xbots that couldn’t control your fa...</td>\n",
              "      <td>February</td>\n",
              "      <td>[xbots, ’, control, fanboyism, coronavirus, th...</td>\n",
              "      <td>-0.200000</td>\n",
              "      <td>0.800000</td>\n",
              "      <td>Negative</td>\n",
              "    </tr>\n",
              "  </tbody>\n",
              "</table>\n",
              "</div>"
            ],
            "text/plain": [
              "      Date  ...  Analysis\n",
              "0  2/19/20  ...  Negative\n",
              "1  2/19/20  ...  Negative\n",
              "2  2/19/20  ...  Negative\n",
              "3  2/19/20  ...  Negative\n",
              "4  2/19/20  ...  Negative\n",
              "\n",
              "[5 rows x 7 columns]"
            ]
          },
          "metadata": {
            "tags": []
          },
          "execution_count": 28
        }
      ]
    },
    {
      "cell_type": "code",
      "metadata": {
        "id": "tWu07t0bHJJS",
        "colab_type": "code",
        "colab": {
          "base_uri": "https://localhost:8080/",
          "height": 851
        },
        "outputId": "e2eabfa0-0975-41e8-f835-c1124d431b40"
      },
      "source": [
        "# Positive Tweets\n",
        "plt.scatter(positive_tweets[\"Polarity\"], positive_tweets[\"Subjectivity\"])\n",
        "\n",
        "plt.title('Sentiment Analysis of Positive Tweets') \n",
        "plt.xlabel('Polarity') \n",
        "plt.ylabel('Subjectivity') \n",
        "plt.show()\n",
        "\n",
        "# Neutral Tweets\n",
        "plt.scatter(neutral_tweets[\"Polarity\"], neutral_tweets[\"Subjectivity\"])\n",
        "\n",
        "plt.title('Sentiment Analysis of Neutral Tweets') \n",
        "plt.xlabel('Polarity') \n",
        "plt.ylabel('Subjectivity') \n",
        "plt.show()\n",
        "\n",
        "# Negative Tweets\n",
        "plt.scatter(negative_tweets[\"Polarity\"], negative_tweets[\"Subjectivity\"])\n",
        "\n",
        "plt.title('Sentiment Analysis of Negative Tweets') \n",
        "plt.xlabel('Polarity') \n",
        "plt.ylabel('Subjectivity')\n",
        "plt.show()"
      ],
      "execution_count": 30,
      "outputs": [
        {
          "output_type": "display_data",
          "data": {
            "image/png": "[encoded data removed]",
            "text/plain": [
              "<Figure size 432x288 with 1 Axes>"
            ]
          },
          "metadata": {
            "tags": [],
            "needs_background": "light"
          }
        },
        {
          "output_type": "display_data",
          "data": {
            "image/png": "[encoded data removed]",
            "text/plain": [
              "<Figure size 432x288 with 1 Axes>"
            ]
          },
          "metadata": {
            "tags": [],
            "needs_background": "light"
          }
        },
        {
          "output_type": "display_data",
          "data": {
            "image/png": "[encoded data removed]",
            "text/plain": [
              "<Figure size 432x288 with 1 Axes>"
            ]
          },
          "metadata": {
            "tags": [],
            "needs_background": "light"
          }
        }
      ]
    },
    {
      "cell_type": "code",
      "metadata": {
        "id": "oxQ2y0goHJJU",
        "colab_type": "code",
        "colab": {
          "base_uri": "https://localhost:8080/",
          "height": 202
        },
        "outputId": "a5b2be10-db53-4a14-fe36-767d318f1599"
      },
      "source": [
        "print(data[\"Analysis\"].value_counts())\n",
        "print(\"Total:\", data.shape[0])\n",
        "print()\n",
        "\n",
        "print(\"Percentage of positive Tweets:\", (positive_tweets.shape[0] / data.shape[0]))\n",
        "print()\n",
        "\n",
        "print(\"Percentage of neutral Tweets:\", (neutral_tweets.shape[0] / data.shape[0]))\n",
        "print()\n",
        "\n",
        "print(\"Percentage of negative Tweets:\", (negative_tweets.shape[0] / data.shape[0]))"
      ],
      "execution_count": 31,
      "outputs": [
        {
          "output_type": "stream",
          "text": [
            "Positive    3417\n",
            "Neutral     2265\n",
            "Negative    1818\n",
            "Name: Analysis, dtype: int64\n",
            "Total: 7500\n",
            "\n",
            "Percentage of positive Tweets: 0.4556\n",
            "\n",
            "Percentage of neutral Tweets: 0.302\n",
            "\n",
            "Percentage of negative Tweets: 0.2424\n"
          ],
          "name": "stdout"
        }
      ]
    },
    {
      "cell_type": "code",
      "metadata": {
        "id": "UZOTFpskHJJW",
        "colab_type": "code",
        "colab": {
          "base_uri": "https://localhost:8080/",
          "height": 330
        },
        "outputId": "f60f7818-efab-47b3-b200-dd1ad0e7112f"
      },
      "source": [
        "plt.title(\"Sentiment Analysis: Full Dataset\")\n",
        "plt.xlabel(\"Sentiment\")\n",
        "plt.ylabel(\"Number of Tweets\")\n",
        "data[\"Analysis\"].value_counts().plot(kind = \"bar\")\n",
        "plt.show()"
      ],
      "execution_count": 32,
      "outputs": [
        {
          "output_type": "display_data",
          "data": {
            "image/png": "[encoded data removed]",
            "text/plain": [
              "<Figure size 432x288 with 1 Axes>"
            ]
          },
          "metadata": {
            "tags": [],
            "needs_background": "light"
          }
        }
      ]
    },
    {
      "cell_type": "code",
      "metadata": {
        "id": "0VwJDQtsHJJa",
        "colab_type": "code",
        "colab": {
          "base_uri": "https://localhost:8080/",
          "height": 330
        },
        "outputId": "84dfdff8-7a20-4506-e7d7-3a89d6dbc0c6"
      },
      "source": [
        "plt.title(\"Sentiment Analysis (Percentage): Full Dataset\")\n",
        "plt.xlabel(\"Sentiment\")\n",
        "plt.ylabel(\"Percentage of Total Tweets\")\n",
        "((data[\"Analysis\"].value_counts())/data.shape[0]).plot(kind = \"bar\")\n",
        "plt.show()"
      ],
      "execution_count": 33,
      "outputs": [
        {
          "output_type": "display_data",
          "data": {
            "image/png": "[encoded data removed]",
            "text/plain": [
              "<Figure size 432x288 with 1 Axes>"
            ]
          },
          "metadata": {
            "tags": [],
            "needs_background": "light"
          }
        }
      ]
    },
    {
      "cell_type": "markdown",
      "metadata": {
        "id": "8Gi1KXDmHJJc",
        "colab_type": "text"
      },
      "source": [
        "### Analysis: Monthly"
      ]
    },
    {
      "cell_type": "code",
      "metadata": {
        "id": "ScAhQ7lRHJJc",
        "colab_type": "code",
        "colab": {}
      },
      "source": [
        "months = list(dict.fromkeys(data[\"Month\"].values))\n",
        "sentiments = list(dict.fromkeys(data[\"Analysis\"].values))\n",
        "sentiment_colors = {\"Positive\": \"Blue\", \"Negative\": \"Red\", \"Neutral\": \"Gray\"}"
      ],
      "execution_count": 34,
      "outputs": []
    },
    {
      "cell_type": "code",
      "metadata": {
        "id": "T2HUo778HJJe",
        "colab_type": "code",
        "colab": {
          "base_uri": "https://localhost:8080/",
          "height": 956
        },
        "outputId": "7c7c5d7c-d77a-4031-892a-c15c5c235f30"
      },
      "source": [
        "for month in months:\n",
        "    month_tweets = data.loc[data[\"Month\"] == month]\n",
        "    plt.title(\"Sentiment Analysis: \" + month)\n",
        "    plt.xlabel(\"Sentiment\")\n",
        "    plt.ylabel(\"Percentage of Total Tweets\")\n",
        "    ((month_tweets[\"Analysis\"].value_counts())/data.shape[0]).plot(kind = 'bar')\n",
        "    plt.show()"
      ],
      "execution_count": 39,
      "outputs": [
        {
          "output_type": "display_data",
          "data": {
            "image/png": "[encoded data removed]",
            "text/plain": [
              "<Figure size 432x288 with 1 Axes>"
            ]
          },
          "metadata": {
            "tags": [],
            "needs_background": "light"
          }
        },
        {
          "output_type": "display_data",
          "data": {
            "image/png": "[encoded data removed]",
            "text/plain": [
              "<Figure size 432x288 with 1 Axes>"
            ]
          },
          "metadata": {
            "tags": [],
            "needs_background": "light"
          }
        },
        {
          "output_type": "display_data",
          "data": {
            "image/png": "[encoded data removed]",
            "text/plain": [
              "<Figure size 432x288 with 1 Axes>"
            ]
          },
          "metadata": {
            "tags": [],
            "needs_background": "light"
          }
        }
      ]
    },
    {
      "cell_type": "code",
      "metadata": {
        "id": "oqg1raz3HJJg",
        "colab_type": "code",
        "colab": {
          "base_uri": "https://localhost:8080/",
          "height": 851
        },
        "outputId": "ab406e53-ed0d-4090-ff12-43f9319c717c"
      },
      "source": [
        "for sentiment in sentiments:\n",
        "    month_percentages = []\n",
        "    sentiment_tweets = data.loc[data[\"Analysis\"] == sentiment]\n",
        "    plt.title(\"Sentiment Analysis: \" + sentiment)\n",
        "    plt.xlabel(\"Sentiment\")\n",
        "    plt.ylabel(\"Percentage of Total Tweets\")\n",
        "    for month in months:\n",
        "        month_tweets = sentiment_tweets.loc[sentiment_tweets[\"Month\"] == month]\n",
        "        month_percentages.append(month_tweets[\"Analysis\"].value_counts()/data.shape[0])\n",
        "    plt.scatter(months, month_percentages) \n",
        "    plt.show()"
      ],
      "execution_count": 40,
      "outputs": [
        {
          "output_type": "display_data",
          "data": {
            "image/png": "[encoded data removed]",
            "text/plain": [
              "<Figure size 432x288 with 1 Axes>"
            ]
          },
          "metadata": {
            "tags": [],
            "needs_background": "light"
          }
        },
        {
          "output_type": "display_data",
          "data": {
            "image/png": "[encoded data removed]",
            "text/plain": [
              "<Figure size 432x288 with 1 Axes>"
            ]
          },
          "metadata": {
            "tags": [],
            "needs_background": "light"
          }
        },
        {
          "output_type": "display_data",
          "data": {
            "image/png": "[encoded data removed]",
            "text/plain": [
              "<Figure size 432x288 with 1 Axes>"
            ]
          },
          "metadata": {
            "tags": [],
            "needs_background": "light"
          }
        }
      ]
    },
    {
      "cell_type": "code",
      "metadata": {
        "id": "3K4XrwfuHJJj",
        "colab_type": "code",
        "colab": {
          "base_uri": "https://localhost:8080/",
          "height": 295
        },
        "outputId": "93b293c4-2d68-4c7f-985b-a8c78960cb2f"
      },
      "source": [
        "plt.title(\"Sentiment Analysis\")\n",
        "plt.xlabel(\"Sentiment\")\n",
        "plt.ylabel(\"Percentage of Total Tweets\")\n",
        "    \n",
        "for sentiment in sentiments:\n",
        "    month_percentages = []\n",
        "    sentiment_tweets = data.loc[data[\"Analysis\"] == sentiment]\n",
        "    for month in months:\n",
        "        month_tweets = sentiment_tweets.loc[sentiment_tweets[\"Month\"] == month]\n",
        "        month_percentages.append(month_tweets[\"Analysis\"].value_counts()/data.shape[0])\n",
        "    plt.scatter(months, month_percentages, c = sentiment_colors[sentiment]) \n",
        "    plt.plot(months, month_percentages, c = sentiment_colors[sentiment])\n",
        "plt.show()"
      ],
      "execution_count": 41,
      "outputs": [
        {
          "output_type": "display_data",
          "data": {
            "image/png": "[encoded data removed]",
            "text/plain": [
              "<Figure size 432x288 with 1 Axes>"
            ]
          },
          "metadata": {
            "tags": [],
            "needs_background": "light"
          }
        }
      ]
    },
    {
      "cell_type": "markdown",
      "metadata": {
        "id": "NfCPNAY8HJJl",
        "colab_type": "text"
      },
      "source": [
        "## Naive Bayes Classification"
      ]
    },
    {
      "cell_type": "markdown",
      "metadata": {
        "id": "TQtYmthMHJJm",
        "colab_type": "text"
      },
      "source": [
        "### Training the model"
      ]
    },
    {
      "cell_type": "code",
      "metadata": {
        "id": "r1GGhz1oHJJm",
        "colab_type": "code",
        "colab": {}
      },
      "source": [
        "corpus = pd.read_csv(\"full_corpus.csv\")\n",
        "\n",
        "corpus[\"TweetText\"] = corpus[\"TweetText\"].apply(cleanText)\n",
        "corpus[\"List of Words\"] = corpus[\"TweetText\"].apply(convertToList)"
      ],
      "execution_count": 43,
      "outputs": []
    },
    {
      "cell_type": "code",
      "metadata": {
        "id": "cedvVORMHJJo",
        "colab_type": "code",
        "colab": {
          "base_uri": "https://localhost:8080/",
          "height": 279
        },
        "outputId": "cf2f5333-c941-4411-ab80-84960e909763"
      },
      "source": [
        "corpus.head()"
      ],
      "execution_count": 44,
      "outputs": [
        {
          "output_type": "execute_result",
          "data": {
            "text/html": [
              "<div>\n",
              "<style scoped>\n",
              "    .dataframe tbody tr th:only-of-type {\n",
              "        vertical-align: middle;\n",
              "    }\n",
              "\n",
              "    .dataframe tbody tr th {\n",
              "        vertical-align: top;\n",
              "    }\n",
              "\n",
              "    .dataframe thead th {\n",
              "        text-align: right;\n",
              "    }\n",
              "</style>\n",
              "<table border=\"1\" class=\"dataframe\">\n",
              "  <thead>\n",
              "    <tr style=\"text-align: right;\">\n",
              "      <th></th>\n",
              "      <th>Topic</th>\n",
              "      <th>Sentiment</th>\n",
              "      <th>TweetId</th>\n",
              "      <th>TweetDate</th>\n",
              "      <th>TweetText</th>\n",
              "      <th>List of Words</th>\n",
              "    </tr>\n",
              "  </thead>\n",
              "  <tbody>\n",
              "    <tr>\n",
              "      <th>0</th>\n",
              "      <td>apple</td>\n",
              "      <td>positive</td>\n",
              "      <td>126415614616154112</td>\n",
              "      <td>Tue Oct 18 21:53:25 +0000 2011</td>\n",
              "      <td>now all  has to do is get swype on the iphone ...</td>\n",
              "      <td>[get, swype, iphone, crack, iphone]</td>\n",
              "    </tr>\n",
              "    <tr>\n",
              "      <th>1</th>\n",
              "      <td>apple</td>\n",
              "      <td>positive</td>\n",
              "      <td>126404574230740992</td>\n",
              "      <td>Tue Oct 18 21:09:33 +0000 2011</td>\n",
              "      <td>will be adding more carrier support to the ip...</td>\n",
              "      <td>[adding, carrier, support, iphone, 4s, announced]</td>\n",
              "    </tr>\n",
              "    <tr>\n",
              "      <th>2</th>\n",
              "      <td>apple</td>\n",
              "      <td>positive</td>\n",
              "      <td>126402758403305474</td>\n",
              "      <td>Tue Oct 18 21:02:20 +0000 2011</td>\n",
              "      <td>hilarious  video - guy does a duet with  's si...</td>\n",
              "      <td>[hilarious, video, guy, duet, 's, siri, pretty...</td>\n",
              "    </tr>\n",
              "    <tr>\n",
              "      <th>3</th>\n",
              "      <td>apple</td>\n",
              "      <td>positive</td>\n",
              "      <td>126397179614068736</td>\n",
              "      <td>Tue Oct 18 20:40:10 +0000 2011</td>\n",
              "      <td>you made it too easy for me to switch to  iph...</td>\n",
              "      <td>[made, easy, switch, iphone, see, ya]</td>\n",
              "    </tr>\n",
              "    <tr>\n",
              "      <th>4</th>\n",
              "      <td>apple</td>\n",
              "      <td>positive</td>\n",
              "      <td>126395626979196928</td>\n",
              "      <td>Tue Oct 18 20:34:00 +0000 2011</td>\n",
              "      <td>i just realized that the reason i got into twi...</td>\n",
              "      <td>[realized, reason, got, twitter, ios5, thanks]</td>\n",
              "    </tr>\n",
              "  </tbody>\n",
              "</table>\n",
              "</div>"
            ],
            "text/plain": [
              "   Topic  ...                                      List of Words\n",
              "0  apple  ...                [get, swype, iphone, crack, iphone]\n",
              "1  apple  ...  [adding, carrier, support, iphone, 4s, announced]\n",
              "2  apple  ...  [hilarious, video, guy, duet, 's, siri, pretty...\n",
              "3  apple  ...              [made, easy, switch, iphone, see, ya]\n",
              "4  apple  ...     [realized, reason, got, twitter, ios5, thanks]\n",
              "\n",
              "[5 rows x 6 columns]"
            ]
          },
          "metadata": {
            "tags": []
          },
          "execution_count": 44
        }
      ]
    },
    {
      "cell_type": "code",
      "metadata": {
        "id": "UHzq0CSiHJJq",
        "colab_type": "code",
        "colab": {
          "base_uri": "https://localhost:8080/",
          "height": 67
        },
        "outputId": "86628d8f-137f-41e9-a68f-d5e65ef1830d"
      },
      "source": [
        "training_data, testing_data = train_test_split(corpus, test_size = 0.05)\n",
        "\n",
        "print(corpus.shape)\n",
        "print(training_data.shape)\n",
        "print(testing_data.shape)"
      ],
      "execution_count": 45,
      "outputs": [
        {
          "output_type": "stream",
          "text": [
            "(5113, 6)\n",
            "(4857, 6)\n",
            "(256, 6)\n"
          ],
          "name": "stdout"
        }
      ]
    },
    {
      "cell_type": "code",
      "metadata": {
        "id": "GwZ2GPcNHJJs",
        "colab_type": "code",
        "colab": {}
      },
      "source": [
        "training_data_list = []\n",
        "for index, row in training_data.iterrows():\n",
        "    training_data_list.append((row[\"TweetText\"], row[\"Sentiment\"]))\n",
        "\n",
        "testing_data_list = []\n",
        "for index, row in testing_data.iterrows():\n",
        "    testing_data_list.append((row[\"TweetText\"], row[\"Sentiment\"]))"
      ],
      "execution_count": 46,
      "outputs": []
    },
    {
      "cell_type": "code",
      "metadata": {
        "id": "9zYoIJLUHJJu",
        "colab_type": "code",
        "colab": {}
      },
      "source": [
        "# This function was adapted from https://towardsdatascience.com/creating-the-twitter-sentiment-analysis-program-in-python-with-naive-bayes-classification-672e5589a7ed\n",
        "# (The resource above is open source).\n",
        "def build(input_data):\n",
        "    world_list = []\n",
        "    \n",
        "    for (words, sentiment) in input_data:\n",
        "        world_list.extend(words)\n",
        "\n",
        "    words = nltk.FreqDist(world_list)\n",
        "    word_features = words.keys()\n",
        "    \n",
        "    return word_features"
      ],
      "execution_count": 48,
      "outputs": []
    },
    {
      "cell_type": "code",
      "metadata": {
        "id": "jGjvuX1BHJJx",
        "colab_type": "code",
        "colab": {}
      },
      "source": [
        "# This function was adapted from https://towardsdatascience.com/creating-the-twitter-sentiment-analysis-program-in-python-with-naive-bayes-classification-672e5589a7ed\n",
        "# (The resource above is open source).\n",
        "def get_features(text):\n",
        "    words = set(text)\n",
        "    features = {}\n",
        "    \n",
        "    for word in word_features:\n",
        "        features['contains(%s)' % word] = (word in words)\n",
        "        \n",
        "    return features "
      ],
      "execution_count": 49,
      "outputs": []
    },
    {
      "cell_type": "code",
      "metadata": {
        "id": "QMY0jc2gHJJ0",
        "colab_type": "code",
        "colab": {}
      },
      "source": [
        "word_features = build(training_data_list)\n",
        "training_features = nltk.classify.apply_features(get_features, training_data_list)"
      ],
      "execution_count": 50,
      "outputs": []
    },
    {
      "cell_type": "code",
      "metadata": {
        "id": "2II7R8FAHJJ4",
        "colab_type": "code",
        "colab": {}
      },
      "source": [
        "naive_bayes_classifier = nltk.NaiveBayesClassifier.train(training_features)"
      ],
      "execution_count": 51,
      "outputs": []
    },
    {
      "cell_type": "code",
      "metadata": {
        "id": "2w0eNludHJJ6",
        "colab_type": "code",
        "colab": {}
      },
      "source": [
        "# This piece of code was suggested in https://towardsdatascience.com/creating-the-twitter-sentiment-analysis-program-in-python-with-naive-bayes-classification-672e5589a7ed\n",
        "classifier_result_labels = [naive_bayes_classifier.classify(get_features(tweet[0])) for tweet in testing_data_list]\n"
      ],
      "execution_count": 52,
      "outputs": []
    },
    {
      "cell_type": "code",
      "metadata": {
        "id": "FE0dEa4WHJJ7",
        "colab_type": "code",
        "colab": {
          "base_uri": "https://localhost:8080/",
          "height": 67
        },
        "outputId": "9415ca6f-84f5-4b14-8b73-9c64d52c4933"
      },
      "source": [
        "print(\"Percentage of Positive Sentiments:\", classifier_result_labels.count('positive') / testing_data.shape[0])\n",
        "print()\n",
        "print(\"Percentage of Negative Sentiments:\", classifier_result_labels.count('negative') / testing_data.shape[0])\n"
      ],
      "execution_count": 53,
      "outputs": [
        {
          "output_type": "stream",
          "text": [
            "Percentage of Positive Sentiments: 0.0078125\n",
            "\n",
            "Percentage of Negative Sentiments: 0.0703125\n"
          ],
          "name": "stdout"
        }
      ]
    },
    {
      "cell_type": "markdown",
      "metadata": {
        "id": "rR-h2-_2HJJ-",
        "colab_type": "text"
      },
      "source": [
        "### Applying the Model to Covid-19 Twitter Data"
      ]
    },
    {
      "cell_type": "code",
      "metadata": {
        "id": "AfXuuCTLHJJ-",
        "colab_type": "code",
        "colab": {}
      },
      "source": [
        "# training_data, testing_data = train_test_split(data, test_size = 0.2)"
      ],
      "execution_count": 54,
      "outputs": []
    },
    {
      "cell_type": "code",
      "metadata": {
        "id": "P2_yCfaHHJKA",
        "colab_type": "code",
        "colab": {
          "base_uri": "https://localhost:8080/",
          "height": 67
        },
        "outputId": "469398be-280a-4207-f644-9b66c0bc2a1a"
      },
      "source": [
        "print(data.shape)\n",
        "print(training_data.shape)\n",
        "print(testing_data.shape)"
      ],
      "execution_count": 55,
      "outputs": [
        {
          "output_type": "stream",
          "text": [
            "(7500, 7)\n",
            "(4857, 6)\n",
            "(256, 6)\n"
          ],
          "name": "stdout"
        }
      ]
    },
    {
      "cell_type": "code",
      "metadata": {
        "id": "vmsfXTx9HJKC",
        "colab_type": "code",
        "colab": {}
      },
      "source": [
        "# word_features = build(training_data_list)\n",
        "# training_features = nltk.classify.apply_features(get_features, training_data_list)"
      ],
      "execution_count": null,
      "outputs": []
    },
    {
      "cell_type": "code",
      "metadata": {
        "id": "-wy7q4UCHJKD",
        "colab_type": "code",
        "colab": {}
      },
      "source": [
        "# naive_bayes_classifier = nltk.NaiveBayesClassifier.train(training_features)"
      ],
      "execution_count": null,
      "outputs": []
    },
    {
      "cell_type": "code",
      "metadata": {
        "id": "Ck6arwJiHJKF",
        "colab_type": "code",
        "colab": {}
      },
      "source": [
        "# This piece of code was suggested in https://towardsdatascience.com/creating-the-twitter-sentiment-analysis-program-in-python-with-naive-bayes-classification-672e5589a7ed\n",
        "covid_classifier_labels = [naive_bayes_classifier.classify(get_features(row[3])) for index, row in data.iterrows()]"
      ],
      "execution_count": 56,
      "outputs": []
    },
    {
      "cell_type": "code",
      "metadata": {
        "id": "XSuP0NrIHJKG",
        "colab_type": "code",
        "colab": {}
      },
      "source": [
        "data[\"Classification\"] = covid_classifier_labels\n",
        "data[\"Ensemble\"] = covid_classifier_labels # temporary"
      ],
      "execution_count": 57,
      "outputs": []
    },
    {
      "cell_type": "code",
      "metadata": {
        "id": "cVv_Hq3wHJKJ",
        "colab_type": "code",
        "colab": {}
      },
      "source": [
        "for index, row in data.iterrows():\n",
        "    if row[\"Polarity\"] < -0.2:\n",
        "        row[\"Ensemble\"] = \"negative\"\n",
        "    elif row[\"Polarity\"] > 0.2 and row[\"Classification\"] == \"neutral\":\n",
        "        row[\"Ensemble\"] = \"positive\""
      ],
      "execution_count": 58,
      "outputs": []
    },
    {
      "cell_type": "code",
      "metadata": {
        "id": "4uedwiE2HJKK",
        "colab_type": "code",
        "colab": {}
      },
      "source": [
        "data.loc[data[\"Polarity\"] < -0.2, \"Ensemble\"] = \"negative\"\n",
        "data.loc[data[\"Polarity\"] > 0.2, \"Ensemble\"] = \"positive\""
      ],
      "execution_count": 59,
      "outputs": []
    },
    {
      "cell_type": "code",
      "metadata": {
        "scrolled": true,
        "id": "_cleqgHCHJKN",
        "colab_type": "code",
        "colab": {
          "base_uri": "https://localhost:8080/",
          "height": 101
        },
        "outputId": "770cb6f6-b1c8-4c0b-f57d-4d7e1505e05b"
      },
      "source": [
        "print(data[\"Ensemble\"].value_counts())"
      ],
      "execution_count": 60,
      "outputs": [
        {
          "output_type": "stream",
          "text": [
            "irrelevant    4078\n",
            "positive      1659\n",
            "neutral       1141\n",
            "negative       622\n",
            "Name: Ensemble, dtype: int64\n"
          ],
          "name": "stdout"
        }
      ]
    },
    {
      "cell_type": "markdown",
      "metadata": {
        "id": "UPSeRBJTHJKP",
        "colab_type": "text"
      },
      "source": [
        "## Covid Cases"
      ]
    },
    {
      "cell_type": "code",
      "metadata": {
        "id": "eEisHuGfHJKP",
        "colab_type": "code",
        "colab": {}
      },
      "source": [
        "confirmed = pd.read_csv('covid_confirmed.csv')\n",
        "recovered = pd.read_csv('covid_recovered.csv')\n",
        "deaths = pd.read_csv('covid_deaths.csv')"
      ],
      "execution_count": 61,
      "outputs": []
    },
    {
      "cell_type": "code",
      "metadata": {
        "id": "Qrwgw6RfHJKR",
        "colab_type": "code",
        "colab": {
          "base_uri": "https://localhost:8080/",
          "height": 244
        },
        "outputId": "2815cd98-bbeb-4078-9873-ab1b5fd32206"
      },
      "source": [
        "confirmed.head()"
      ],
      "execution_count": 62,
      "outputs": [
        {
          "output_type": "execute_result",
          "data": {
            "text/html": [
              "<div>\n",
              "<style scoped>\n",
              "    .dataframe tbody tr th:only-of-type {\n",
              "        vertical-align: middle;\n",
              "    }\n",
              "\n",
              "    .dataframe tbody tr th {\n",
              "        vertical-align: top;\n",
              "    }\n",
              "\n",
              "    .dataframe thead th {\n",
              "        text-align: right;\n",
              "    }\n",
              "</style>\n",
              "<table border=\"1\" class=\"dataframe\">\n",
              "  <thead>\n",
              "    <tr style=\"text-align: right;\">\n",
              "      <th></th>\n",
              "      <th>Province/State</th>\n",
              "      <th>Country/Region</th>\n",
              "      <th>Lat</th>\n",
              "      <th>Long</th>\n",
              "      <th>1/22/20</th>\n",
              "      <th>1/23/20</th>\n",
              "      <th>1/24/20</th>\n",
              "      <th>1/25/20</th>\n",
              "      <th>1/26/20</th>\n",
              "      <th>1/27/20</th>\n",
              "      <th>1/28/20</th>\n",
              "      <th>1/29/20</th>\n",
              "      <th>1/30/20</th>\n",
              "      <th>1/31/20</th>\n",
              "      <th>2/1/20</th>\n",
              "      <th>2/2/20</th>\n",
              "      <th>2/3/20</th>\n",
              "      <th>2/4/20</th>\n",
              "      <th>2/5/20</th>\n",
              "      <th>2/6/20</th>\n",
              "      <th>2/7/20</th>\n",
              "      <th>2/8/20</th>\n",
              "      <th>2/9/20</th>\n",
              "      <th>2/10/20</th>\n",
              "      <th>2/11/20</th>\n",
              "      <th>2/12/20</th>\n",
              "      <th>2/13/20</th>\n",
              "      <th>2/14/20</th>\n",
              "      <th>2/15/20</th>\n",
              "      <th>2/16/20</th>\n",
              "      <th>2/17/20</th>\n",
              "      <th>2/18/20</th>\n",
              "      <th>2/19/20</th>\n",
              "      <th>2/20/20</th>\n",
              "      <th>2/21/20</th>\n",
              "      <th>2/22/20</th>\n",
              "      <th>2/23/20</th>\n",
              "      <th>2/24/20</th>\n",
              "      <th>2/25/20</th>\n",
              "      <th>2/26/20</th>\n",
              "      <th>...</th>\n",
              "      <th>4/1/20</th>\n",
              "      <th>4/2/20</th>\n",
              "      <th>4/3/20</th>\n",
              "      <th>4/4/20</th>\n",
              "      <th>4/5/20</th>\n",
              "      <th>4/6/20</th>\n",
              "      <th>4/7/20</th>\n",
              "      <th>4/8/20</th>\n",
              "      <th>4/9/20</th>\n",
              "      <th>4/10/20</th>\n",
              "      <th>4/11/20</th>\n",
              "      <th>4/12/20</th>\n",
              "      <th>4/13/20</th>\n",
              "      <th>4/14/20</th>\n",
              "      <th>4/15/20</th>\n",
              "      <th>4/16/20</th>\n",
              "      <th>4/17/20</th>\n",
              "      <th>4/18/20</th>\n",
              "      <th>4/19/20</th>\n",
              "      <th>4/20/20</th>\n",
              "      <th>4/21/20</th>\n",
              "      <th>4/22/20</th>\n",
              "      <th>4/23/20</th>\n",
              "      <th>4/24/20</th>\n",
              "      <th>4/25/20</th>\n",
              "      <th>4/26/20</th>\n",
              "      <th>4/27/20</th>\n",
              "      <th>4/28/20</th>\n",
              "      <th>4/29/20</th>\n",
              "      <th>4/30/20</th>\n",
              "      <th>5/1/20</th>\n",
              "      <th>5/2/20</th>\n",
              "      <th>5/3/20</th>\n",
              "      <th>5/4/20</th>\n",
              "      <th>5/5/20</th>\n",
              "      <th>5/6/20</th>\n",
              "      <th>5/7/20</th>\n",
              "      <th>5/8/20</th>\n",
              "      <th>5/9/20</th>\n",
              "      <th>5/10/20</th>\n",
              "    </tr>\n",
              "  </thead>\n",
              "  <tbody>\n",
              "    <tr>\n",
              "      <th>0</th>\n",
              "      <td>NaN</td>\n",
              "      <td>Afghanistan</td>\n",
              "      <td>33.0000</td>\n",
              "      <td>65.0000</td>\n",
              "      <td>0</td>\n",
              "      <td>0</td>\n",
              "      <td>0</td>\n",
              "      <td>0</td>\n",
              "      <td>0</td>\n",
              "      <td>0</td>\n",
              "      <td>0</td>\n",
              "      <td>0</td>\n",
              "      <td>0</td>\n",
              "      <td>0</td>\n",
              "      <td>0</td>\n",
              "      <td>0</td>\n",
              "      <td>0</td>\n",
              "      <td>0</td>\n",
              "      <td>0</td>\n",
              "      <td>0</td>\n",
              "      <td>0</td>\n",
              "      <td>0</td>\n",
              "      <td>0</td>\n",
              "      <td>0</td>\n",
              "      <td>0</td>\n",
              "      <td>0</td>\n",
              "      <td>0</td>\n",
              "      <td>0</td>\n",
              "      <td>0</td>\n",
              "      <td>0</td>\n",
              "      <td>0</td>\n",
              "      <td>0</td>\n",
              "      <td>0</td>\n",
              "      <td>0</td>\n",
              "      <td>0</td>\n",
              "      <td>0</td>\n",
              "      <td>0</td>\n",
              "      <td>1</td>\n",
              "      <td>1</td>\n",
              "      <td>1</td>\n",
              "      <td>...</td>\n",
              "      <td>237</td>\n",
              "      <td>273</td>\n",
              "      <td>281</td>\n",
              "      <td>299</td>\n",
              "      <td>349</td>\n",
              "      <td>367</td>\n",
              "      <td>423</td>\n",
              "      <td>444</td>\n",
              "      <td>484</td>\n",
              "      <td>521</td>\n",
              "      <td>555</td>\n",
              "      <td>607</td>\n",
              "      <td>665</td>\n",
              "      <td>714</td>\n",
              "      <td>784</td>\n",
              "      <td>840</td>\n",
              "      <td>906</td>\n",
              "      <td>933</td>\n",
              "      <td>996</td>\n",
              "      <td>1026</td>\n",
              "      <td>1092</td>\n",
              "      <td>1176</td>\n",
              "      <td>1279</td>\n",
              "      <td>1351</td>\n",
              "      <td>1463</td>\n",
              "      <td>1531</td>\n",
              "      <td>1703</td>\n",
              "      <td>1828</td>\n",
              "      <td>1939</td>\n",
              "      <td>2171</td>\n",
              "      <td>2335</td>\n",
              "      <td>2469</td>\n",
              "      <td>2704</td>\n",
              "      <td>2894</td>\n",
              "      <td>3224</td>\n",
              "      <td>3392</td>\n",
              "      <td>3563</td>\n",
              "      <td>3778</td>\n",
              "      <td>4033</td>\n",
              "      <td>4402</td>\n",
              "    </tr>\n",
              "    <tr>\n",
              "      <th>1</th>\n",
              "      <td>NaN</td>\n",
              "      <td>Albania</td>\n",
              "      <td>41.1533</td>\n",
              "      <td>20.1683</td>\n",
              "      <td>0</td>\n",
              "      <td>0</td>\n",
              "      <td>0</td>\n",
              "      <td>0</td>\n",
              "      <td>0</td>\n",
              "      <td>0</td>\n",
              "      <td>0</td>\n",
              "      <td>0</td>\n",
              "      <td>0</td>\n",
              "      <td>0</td>\n",
              "      <td>0</td>\n",
              "      <td>0</td>\n",
              "      <td>0</td>\n",
              "      <td>0</td>\n",
              "      <td>0</td>\n",
              "      <td>0</td>\n",
              "      <td>0</td>\n",
              "      <td>0</td>\n",
              "      <td>0</td>\n",
              "      <td>0</td>\n",
              "      <td>0</td>\n",
              "      <td>0</td>\n",
              "      <td>0</td>\n",
              "      <td>0</td>\n",
              "      <td>0</td>\n",
              "      <td>0</td>\n",
              "      <td>0</td>\n",
              "      <td>0</td>\n",
              "      <td>0</td>\n",
              "      <td>0</td>\n",
              "      <td>0</td>\n",
              "      <td>0</td>\n",
              "      <td>0</td>\n",
              "      <td>0</td>\n",
              "      <td>0</td>\n",
              "      <td>0</td>\n",
              "      <td>...</td>\n",
              "      <td>259</td>\n",
              "      <td>277</td>\n",
              "      <td>304</td>\n",
              "      <td>333</td>\n",
              "      <td>361</td>\n",
              "      <td>377</td>\n",
              "      <td>383</td>\n",
              "      <td>400</td>\n",
              "      <td>409</td>\n",
              "      <td>416</td>\n",
              "      <td>433</td>\n",
              "      <td>446</td>\n",
              "      <td>467</td>\n",
              "      <td>475</td>\n",
              "      <td>494</td>\n",
              "      <td>518</td>\n",
              "      <td>539</td>\n",
              "      <td>548</td>\n",
              "      <td>562</td>\n",
              "      <td>584</td>\n",
              "      <td>609</td>\n",
              "      <td>634</td>\n",
              "      <td>663</td>\n",
              "      <td>678</td>\n",
              "      <td>712</td>\n",
              "      <td>726</td>\n",
              "      <td>736</td>\n",
              "      <td>750</td>\n",
              "      <td>766</td>\n",
              "      <td>773</td>\n",
              "      <td>782</td>\n",
              "      <td>789</td>\n",
              "      <td>795</td>\n",
              "      <td>803</td>\n",
              "      <td>820</td>\n",
              "      <td>832</td>\n",
              "      <td>842</td>\n",
              "      <td>850</td>\n",
              "      <td>856</td>\n",
              "      <td>868</td>\n",
              "    </tr>\n",
              "    <tr>\n",
              "      <th>2</th>\n",
              "      <td>NaN</td>\n",
              "      <td>Algeria</td>\n",
              "      <td>28.0339</td>\n",
              "      <td>1.6596</td>\n",
              "      <td>0</td>\n",
              "      <td>0</td>\n",
              "      <td>0</td>\n",
              "      <td>0</td>\n",
              "      <td>0</td>\n",
              "      <td>0</td>\n",
              "      <td>0</td>\n",
              "      <td>0</td>\n",
              "      <td>0</td>\n",
              "      <td>0</td>\n",
              "      <td>0</td>\n",
              "      <td>0</td>\n",
              "      <td>0</td>\n",
              "      <td>0</td>\n",
              "      <td>0</td>\n",
              "      <td>0</td>\n",
              "      <td>0</td>\n",
              "      <td>0</td>\n",
              "      <td>0</td>\n",
              "      <td>0</td>\n",
              "      <td>0</td>\n",
              "      <td>0</td>\n",
              "      <td>0</td>\n",
              "      <td>0</td>\n",
              "      <td>0</td>\n",
              "      <td>0</td>\n",
              "      <td>0</td>\n",
              "      <td>0</td>\n",
              "      <td>0</td>\n",
              "      <td>0</td>\n",
              "      <td>0</td>\n",
              "      <td>0</td>\n",
              "      <td>0</td>\n",
              "      <td>0</td>\n",
              "      <td>1</td>\n",
              "      <td>1</td>\n",
              "      <td>...</td>\n",
              "      <td>847</td>\n",
              "      <td>986</td>\n",
              "      <td>1171</td>\n",
              "      <td>1251</td>\n",
              "      <td>1320</td>\n",
              "      <td>1423</td>\n",
              "      <td>1468</td>\n",
              "      <td>1572</td>\n",
              "      <td>1666</td>\n",
              "      <td>1761</td>\n",
              "      <td>1825</td>\n",
              "      <td>1914</td>\n",
              "      <td>1983</td>\n",
              "      <td>2070</td>\n",
              "      <td>2160</td>\n",
              "      <td>2268</td>\n",
              "      <td>2418</td>\n",
              "      <td>2534</td>\n",
              "      <td>2629</td>\n",
              "      <td>2718</td>\n",
              "      <td>2811</td>\n",
              "      <td>2910</td>\n",
              "      <td>3007</td>\n",
              "      <td>3127</td>\n",
              "      <td>3256</td>\n",
              "      <td>3382</td>\n",
              "      <td>3517</td>\n",
              "      <td>3649</td>\n",
              "      <td>3848</td>\n",
              "      <td>4006</td>\n",
              "      <td>4154</td>\n",
              "      <td>4295</td>\n",
              "      <td>4474</td>\n",
              "      <td>4648</td>\n",
              "      <td>4838</td>\n",
              "      <td>4997</td>\n",
              "      <td>5182</td>\n",
              "      <td>5369</td>\n",
              "      <td>5558</td>\n",
              "      <td>5723</td>\n",
              "    </tr>\n",
              "    <tr>\n",
              "      <th>3</th>\n",
              "      <td>NaN</td>\n",
              "      <td>Andorra</td>\n",
              "      <td>42.5063</td>\n",
              "      <td>1.5218</td>\n",
              "      <td>0</td>\n",
              "      <td>0</td>\n",
              "      <td>0</td>\n",
              "      <td>0</td>\n",
              "      <td>0</td>\n",
              "      <td>0</td>\n",
              "      <td>0</td>\n",
              "      <td>0</td>\n",
              "      <td>0</td>\n",
              "      <td>0</td>\n",
              "      <td>0</td>\n",
              "      <td>0</td>\n",
              "      <td>0</td>\n",
              "      <td>0</td>\n",
              "      <td>0</td>\n",
              "      <td>0</td>\n",
              "      <td>0</td>\n",
              "      <td>0</td>\n",
              "      <td>0</td>\n",
              "      <td>0</td>\n",
              "      <td>0</td>\n",
              "      <td>0</td>\n",
              "      <td>0</td>\n",
              "      <td>0</td>\n",
              "      <td>0</td>\n",
              "      <td>0</td>\n",
              "      <td>0</td>\n",
              "      <td>0</td>\n",
              "      <td>0</td>\n",
              "      <td>0</td>\n",
              "      <td>0</td>\n",
              "      <td>0</td>\n",
              "      <td>0</td>\n",
              "      <td>0</td>\n",
              "      <td>0</td>\n",
              "      <td>0</td>\n",
              "      <td>...</td>\n",
              "      <td>390</td>\n",
              "      <td>428</td>\n",
              "      <td>439</td>\n",
              "      <td>466</td>\n",
              "      <td>501</td>\n",
              "      <td>525</td>\n",
              "      <td>545</td>\n",
              "      <td>564</td>\n",
              "      <td>583</td>\n",
              "      <td>601</td>\n",
              "      <td>601</td>\n",
              "      <td>638</td>\n",
              "      <td>646</td>\n",
              "      <td>659</td>\n",
              "      <td>673</td>\n",
              "      <td>673</td>\n",
              "      <td>696</td>\n",
              "      <td>704</td>\n",
              "      <td>713</td>\n",
              "      <td>717</td>\n",
              "      <td>717</td>\n",
              "      <td>723</td>\n",
              "      <td>723</td>\n",
              "      <td>731</td>\n",
              "      <td>738</td>\n",
              "      <td>738</td>\n",
              "      <td>743</td>\n",
              "      <td>743</td>\n",
              "      <td>743</td>\n",
              "      <td>745</td>\n",
              "      <td>745</td>\n",
              "      <td>747</td>\n",
              "      <td>748</td>\n",
              "      <td>750</td>\n",
              "      <td>751</td>\n",
              "      <td>751</td>\n",
              "      <td>752</td>\n",
              "      <td>752</td>\n",
              "      <td>754</td>\n",
              "      <td>755</td>\n",
              "    </tr>\n",
              "    <tr>\n",
              "      <th>4</th>\n",
              "      <td>NaN</td>\n",
              "      <td>Angola</td>\n",
              "      <td>-11.2027</td>\n",
              "      <td>17.8739</td>\n",
              "      <td>0</td>\n",
              "      <td>0</td>\n",
              "      <td>0</td>\n",
              "      <td>0</td>\n",
              "      <td>0</td>\n",
              "      <td>0</td>\n",
              "      <td>0</td>\n",
              "      <td>0</td>\n",
              "      <td>0</td>\n",
              "      <td>0</td>\n",
              "      <td>0</td>\n",
              "      <td>0</td>\n",
              "      <td>0</td>\n",
              "      <td>0</td>\n",
              "      <td>0</td>\n",
              "      <td>0</td>\n",
              "      <td>0</td>\n",
              "      <td>0</td>\n",
              "      <td>0</td>\n",
              "      <td>0</td>\n",
              "      <td>0</td>\n",
              "      <td>0</td>\n",
              "      <td>0</td>\n",
              "      <td>0</td>\n",
              "      <td>0</td>\n",
              "      <td>0</td>\n",
              "      <td>0</td>\n",
              "      <td>0</td>\n",
              "      <td>0</td>\n",
              "      <td>0</td>\n",
              "      <td>0</td>\n",
              "      <td>0</td>\n",
              "      <td>0</td>\n",
              "      <td>0</td>\n",
              "      <td>0</td>\n",
              "      <td>0</td>\n",
              "      <td>...</td>\n",
              "      <td>8</td>\n",
              "      <td>8</td>\n",
              "      <td>8</td>\n",
              "      <td>10</td>\n",
              "      <td>14</td>\n",
              "      <td>16</td>\n",
              "      <td>17</td>\n",
              "      <td>19</td>\n",
              "      <td>19</td>\n",
              "      <td>19</td>\n",
              "      <td>19</td>\n",
              "      <td>19</td>\n",
              "      <td>19</td>\n",
              "      <td>19</td>\n",
              "      <td>19</td>\n",
              "      <td>19</td>\n",
              "      <td>19</td>\n",
              "      <td>24</td>\n",
              "      <td>24</td>\n",
              "      <td>24</td>\n",
              "      <td>24</td>\n",
              "      <td>25</td>\n",
              "      <td>25</td>\n",
              "      <td>25</td>\n",
              "      <td>25</td>\n",
              "      <td>26</td>\n",
              "      <td>27</td>\n",
              "      <td>27</td>\n",
              "      <td>27</td>\n",
              "      <td>27</td>\n",
              "      <td>30</td>\n",
              "      <td>35</td>\n",
              "      <td>35</td>\n",
              "      <td>35</td>\n",
              "      <td>36</td>\n",
              "      <td>36</td>\n",
              "      <td>36</td>\n",
              "      <td>43</td>\n",
              "      <td>43</td>\n",
              "      <td>45</td>\n",
              "    </tr>\n",
              "  </tbody>\n",
              "</table>\n",
              "<p>5 rows × 114 columns</p>\n",
              "</div>"
            ],
            "text/plain": [
              "  Province/State Country/Region      Lat  ...  5/8/20  5/9/20  5/10/20\n",
              "0            NaN    Afghanistan  33.0000  ...    3778    4033     4402\n",
              "1            NaN        Albania  41.1533  ...     850     856      868\n",
              "2            NaN        Algeria  28.0339  ...    5369    5558     5723\n",
              "3            NaN        Andorra  42.5063  ...     752     754      755\n",
              "4            NaN         Angola -11.2027  ...      43      43       45\n",
              "\n",
              "[5 rows x 114 columns]"
            ]
          },
          "metadata": {
            "tags": []
          },
          "execution_count": 62
        }
      ]
    },
    {
      "cell_type": "code",
      "metadata": {
        "id": "TyVPi_5lHJKV",
        "colab_type": "code",
        "colab": {}
      },
      "source": [
        "confirmed_in = confirmed.loc[confirmed[\"Country/Region\"] == \"India\"]\n",
        "deaths_in = deaths.loc[deaths[\"Country/Region\"] == \"India\"]\n",
        "recovered_in = recovered.loc[recovered[\"Country/Region\"] == \"India\"]"
      ],
      "execution_count": 68,
      "outputs": []
    },
    {
      "cell_type": "code",
      "metadata": {
        "id": "mCdTXIRHHJKX",
        "colab_type": "code",
        "colab": {
          "base_uri": "https://localhost:8080/",
          "height": 126
        },
        "outputId": "190c18f6-bd87-4c7b-84b2-54468621e0c4"
      },
      "source": [
        "confirmed_in.head()"
      ],
      "execution_count": 69,
      "outputs": [
        {
          "output_type": "execute_result",
          "data": {
            "text/html": [
              "<div>\n",
              "<style scoped>\n",
              "    .dataframe tbody tr th:only-of-type {\n",
              "        vertical-align: middle;\n",
              "    }\n",
              "\n",
              "    .dataframe tbody tr th {\n",
              "        vertical-align: top;\n",
              "    }\n",
              "\n",
              "    .dataframe thead th {\n",
              "        text-align: right;\n",
              "    }\n",
              "</style>\n",
              "<table border=\"1\" class=\"dataframe\">\n",
              "  <thead>\n",
              "    <tr style=\"text-align: right;\">\n",
              "      <th></th>\n",
              "      <th>Province/State</th>\n",
              "      <th>Country/Region</th>\n",
              "      <th>Lat</th>\n",
              "      <th>Long</th>\n",
              "      <th>1/22/20</th>\n",
              "      <th>1/23/20</th>\n",
              "      <th>1/24/20</th>\n",
              "      <th>1/25/20</th>\n",
              "      <th>1/26/20</th>\n",
              "      <th>1/27/20</th>\n",
              "      <th>1/28/20</th>\n",
              "      <th>1/29/20</th>\n",
              "      <th>1/30/20</th>\n",
              "      <th>1/31/20</th>\n",
              "      <th>2/1/20</th>\n",
              "      <th>2/2/20</th>\n",
              "      <th>2/3/20</th>\n",
              "      <th>2/4/20</th>\n",
              "      <th>2/5/20</th>\n",
              "      <th>2/6/20</th>\n",
              "      <th>2/7/20</th>\n",
              "      <th>2/8/20</th>\n",
              "      <th>2/9/20</th>\n",
              "      <th>2/10/20</th>\n",
              "      <th>2/11/20</th>\n",
              "      <th>2/12/20</th>\n",
              "      <th>2/13/20</th>\n",
              "      <th>2/14/20</th>\n",
              "      <th>2/15/20</th>\n",
              "      <th>2/16/20</th>\n",
              "      <th>2/17/20</th>\n",
              "      <th>2/18/20</th>\n",
              "      <th>2/19/20</th>\n",
              "      <th>2/20/20</th>\n",
              "      <th>2/21/20</th>\n",
              "      <th>2/22/20</th>\n",
              "      <th>2/23/20</th>\n",
              "      <th>2/24/20</th>\n",
              "      <th>2/25/20</th>\n",
              "      <th>2/26/20</th>\n",
              "      <th>...</th>\n",
              "      <th>4/1/20</th>\n",
              "      <th>4/2/20</th>\n",
              "      <th>4/3/20</th>\n",
              "      <th>4/4/20</th>\n",
              "      <th>4/5/20</th>\n",
              "      <th>4/6/20</th>\n",
              "      <th>4/7/20</th>\n",
              "      <th>4/8/20</th>\n",
              "      <th>4/9/20</th>\n",
              "      <th>4/10/20</th>\n",
              "      <th>4/11/20</th>\n",
              "      <th>4/12/20</th>\n",
              "      <th>4/13/20</th>\n",
              "      <th>4/14/20</th>\n",
              "      <th>4/15/20</th>\n",
              "      <th>4/16/20</th>\n",
              "      <th>4/17/20</th>\n",
              "      <th>4/18/20</th>\n",
              "      <th>4/19/20</th>\n",
              "      <th>4/20/20</th>\n",
              "      <th>4/21/20</th>\n",
              "      <th>4/22/20</th>\n",
              "      <th>4/23/20</th>\n",
              "      <th>4/24/20</th>\n",
              "      <th>4/25/20</th>\n",
              "      <th>4/26/20</th>\n",
              "      <th>4/27/20</th>\n",
              "      <th>4/28/20</th>\n",
              "      <th>4/29/20</th>\n",
              "      <th>4/30/20</th>\n",
              "      <th>5/1/20</th>\n",
              "      <th>5/2/20</th>\n",
              "      <th>5/3/20</th>\n",
              "      <th>5/4/20</th>\n",
              "      <th>5/5/20</th>\n",
              "      <th>5/6/20</th>\n",
              "      <th>5/7/20</th>\n",
              "      <th>5/8/20</th>\n",
              "      <th>5/9/20</th>\n",
              "      <th>5/10/20</th>\n",
              "    </tr>\n",
              "  </thead>\n",
              "  <tbody>\n",
              "    <tr>\n",
              "      <th>131</th>\n",
              "      <td>NaN</td>\n",
              "      <td>India</td>\n",
              "      <td>21.0</td>\n",
              "      <td>78.0</td>\n",
              "      <td>0</td>\n",
              "      <td>0</td>\n",
              "      <td>0</td>\n",
              "      <td>0</td>\n",
              "      <td>0</td>\n",
              "      <td>0</td>\n",
              "      <td>0</td>\n",
              "      <td>0</td>\n",
              "      <td>1</td>\n",
              "      <td>1</td>\n",
              "      <td>1</td>\n",
              "      <td>2</td>\n",
              "      <td>3</td>\n",
              "      <td>3</td>\n",
              "      <td>3</td>\n",
              "      <td>3</td>\n",
              "      <td>3</td>\n",
              "      <td>3</td>\n",
              "      <td>3</td>\n",
              "      <td>3</td>\n",
              "      <td>3</td>\n",
              "      <td>3</td>\n",
              "      <td>3</td>\n",
              "      <td>3</td>\n",
              "      <td>3</td>\n",
              "      <td>3</td>\n",
              "      <td>3</td>\n",
              "      <td>3</td>\n",
              "      <td>3</td>\n",
              "      <td>3</td>\n",
              "      <td>3</td>\n",
              "      <td>3</td>\n",
              "      <td>3</td>\n",
              "      <td>3</td>\n",
              "      <td>3</td>\n",
              "      <td>3</td>\n",
              "      <td>...</td>\n",
              "      <td>1998</td>\n",
              "      <td>2543</td>\n",
              "      <td>2567</td>\n",
              "      <td>3082</td>\n",
              "      <td>3588</td>\n",
              "      <td>4778</td>\n",
              "      <td>5311</td>\n",
              "      <td>5916</td>\n",
              "      <td>6725</td>\n",
              "      <td>7598</td>\n",
              "      <td>8446</td>\n",
              "      <td>9205</td>\n",
              "      <td>10453</td>\n",
              "      <td>11487</td>\n",
              "      <td>12322</td>\n",
              "      <td>13430</td>\n",
              "      <td>14352</td>\n",
              "      <td>15722</td>\n",
              "      <td>17615</td>\n",
              "      <td>18539</td>\n",
              "      <td>20080</td>\n",
              "      <td>21370</td>\n",
              "      <td>23077</td>\n",
              "      <td>24530</td>\n",
              "      <td>26283</td>\n",
              "      <td>27890</td>\n",
              "      <td>29451</td>\n",
              "      <td>31324</td>\n",
              "      <td>33062</td>\n",
              "      <td>34863</td>\n",
              "      <td>37257</td>\n",
              "      <td>39699</td>\n",
              "      <td>42505</td>\n",
              "      <td>46437</td>\n",
              "      <td>49400</td>\n",
              "      <td>52987</td>\n",
              "      <td>56351</td>\n",
              "      <td>59695</td>\n",
              "      <td>62808</td>\n",
              "      <td>67161</td>\n",
              "    </tr>\n",
              "  </tbody>\n",
              "</table>\n",
              "<p>1 rows × 114 columns</p>\n",
              "</div>"
            ],
            "text/plain": [
              "    Province/State Country/Region   Lat  Long  ...  5/7/20  5/8/20  5/9/20  5/10/20\n",
              "131            NaN          India  21.0  78.0  ...   56351   59695   62808    67161\n",
              "\n",
              "[1 rows x 114 columns]"
            ]
          },
          "metadata": {
            "tags": []
          },
          "execution_count": 69
        }
      ]
    },
    {
      "cell_type": "code",
      "metadata": {
        "id": "T2QdtfcZHJKZ",
        "colab_type": "code",
        "colab": {}
      },
      "source": [
        "df_list = [confirmed_in, deaths_in, recovered_in]\n",
        "\n",
        "for i in range(3):\n",
        "    df = df_list[i].drop(columns = [\"Province/State\", \"Country/Region\", \"Lat\", \"Long\"])\n",
        "    dates, values = [], []\n",
        "\n",
        "    for j in df:\n",
        "        dates.append(j)\n",
        "        values.append(df.iloc[0][j])\n",
        "        \n",
        "    new_data = {'Date': dates, 'Cases': values}\n",
        "    df_list[i] = pd.DataFrame(new_data)\n",
        "\n",
        "confirmed_in = df_list[0]\n",
        "deaths_in = df_list[1]\n",
        "recovered_in = df_list[2]"
      ],
      "execution_count": 70,
      "outputs": []
    },
    {
      "cell_type": "code",
      "metadata": {
        "id": "8zeGelz6HJKb",
        "colab_type": "code",
        "colab": {
          "base_uri": "https://localhost:8080/",
          "height": 195
        },
        "outputId": "9ca88d74-5859-414e-9a90-552df0b686fa"
      },
      "source": [
        "confirmed_in.head()"
      ],
      "execution_count": 74,
      "outputs": [
        {
          "output_type": "execute_result",
          "data": {
            "text/html": [
              "<div>\n",
              "<style scoped>\n",
              "    .dataframe tbody tr th:only-of-type {\n",
              "        vertical-align: middle;\n",
              "    }\n",
              "\n",
              "    .dataframe tbody tr th {\n",
              "        vertical-align: top;\n",
              "    }\n",
              "\n",
              "    .dataframe thead th {\n",
              "        text-align: right;\n",
              "    }\n",
              "</style>\n",
              "<table border=\"1\" class=\"dataframe\">\n",
              "  <thead>\n",
              "    <tr style=\"text-align: right;\">\n",
              "      <th></th>\n",
              "      <th>Date</th>\n",
              "      <th>Cases</th>\n",
              "    </tr>\n",
              "  </thead>\n",
              "  <tbody>\n",
              "    <tr>\n",
              "      <th>0</th>\n",
              "      <td>1/22/20</td>\n",
              "      <td>0</td>\n",
              "    </tr>\n",
              "    <tr>\n",
              "      <th>1</th>\n",
              "      <td>1/23/20</td>\n",
              "      <td>0</td>\n",
              "    </tr>\n",
              "    <tr>\n",
              "      <th>2</th>\n",
              "      <td>1/24/20</td>\n",
              "      <td>0</td>\n",
              "    </tr>\n",
              "    <tr>\n",
              "      <th>3</th>\n",
              "      <td>1/25/20</td>\n",
              "      <td>0</td>\n",
              "    </tr>\n",
              "    <tr>\n",
              "      <th>4</th>\n",
              "      <td>1/26/20</td>\n",
              "      <td>0</td>\n",
              "    </tr>\n",
              "  </tbody>\n",
              "</table>\n",
              "</div>"
            ],
            "text/plain": [
              "      Date  Cases\n",
              "0  1/22/20      0\n",
              "1  1/23/20      0\n",
              "2  1/24/20      0\n",
              "3  1/25/20      0\n",
              "4  1/26/20      0"
            ]
          },
          "metadata": {
            "tags": []
          },
          "execution_count": 74
        }
      ]
    },
    {
      "cell_type": "code",
      "metadata": {
        "id": "gQkA8DddRGc_",
        "colab_type": "code",
        "colab": {
          "base_uri": "https://localhost:8080/",
          "height": 195
        },
        "outputId": "ebf99bd1-757d-48c1-c16c-367296e00d21"
      },
      "source": [
        "confirmed_in.tail()"
      ],
      "execution_count": 75,
      "outputs": [
        {
          "output_type": "execute_result",
          "data": {
            "text/html": [
              "<div>\n",
              "<style scoped>\n",
              "    .dataframe tbody tr th:only-of-type {\n",
              "        vertical-align: middle;\n",
              "    }\n",
              "\n",
              "    .dataframe tbody tr th {\n",
              "        vertical-align: top;\n",
              "    }\n",
              "\n",
              "    .dataframe thead th {\n",
              "        text-align: right;\n",
              "    }\n",
              "</style>\n",
              "<table border=\"1\" class=\"dataframe\">\n",
              "  <thead>\n",
              "    <tr style=\"text-align: right;\">\n",
              "      <th></th>\n",
              "      <th>Date</th>\n",
              "      <th>Cases</th>\n",
              "    </tr>\n",
              "  </thead>\n",
              "  <tbody>\n",
              "    <tr>\n",
              "      <th>105</th>\n",
              "      <td>5/6/20</td>\n",
              "      <td>52987</td>\n",
              "    </tr>\n",
              "    <tr>\n",
              "      <th>106</th>\n",
              "      <td>5/7/20</td>\n",
              "      <td>56351</td>\n",
              "    </tr>\n",
              "    <tr>\n",
              "      <th>107</th>\n",
              "      <td>5/8/20</td>\n",
              "      <td>59695</td>\n",
              "    </tr>\n",
              "    <tr>\n",
              "      <th>108</th>\n",
              "      <td>5/9/20</td>\n",
              "      <td>62808</td>\n",
              "    </tr>\n",
              "    <tr>\n",
              "      <th>109</th>\n",
              "      <td>5/10/20</td>\n",
              "      <td>67161</td>\n",
              "    </tr>\n",
              "  </tbody>\n",
              "</table>\n",
              "</div>"
            ],
            "text/plain": [
              "        Date  Cases\n",
              "105   5/6/20  52987\n",
              "106   5/7/20  56351\n",
              "107   5/8/20  59695\n",
              "108   5/9/20  62808\n",
              "109  5/10/20  67161"
            ]
          },
          "metadata": {
            "tags": []
          },
          "execution_count": 75
        }
      ]
    },
    {
      "cell_type": "code",
      "metadata": {
        "id": "HwohMTLDQJZn",
        "colab_type": "code",
        "colab": {
          "base_uri": "https://localhost:8080/",
          "height": 195
        },
        "outputId": "be6622ae-5399-4302-c5fa-4cd680f7c16b"
      },
      "source": [
        "deaths_in.head()"
      ],
      "execution_count": 76,
      "outputs": [
        {
          "output_type": "execute_result",
          "data": {
            "text/html": [
              "<div>\n",
              "<style scoped>\n",
              "    .dataframe tbody tr th:only-of-type {\n",
              "        vertical-align: middle;\n",
              "    }\n",
              "\n",
              "    .dataframe tbody tr th {\n",
              "        vertical-align: top;\n",
              "    }\n",
              "\n",
              "    .dataframe thead th {\n",
              "        text-align: right;\n",
              "    }\n",
              "</style>\n",
              "<table border=\"1\" class=\"dataframe\">\n",
              "  <thead>\n",
              "    <tr style=\"text-align: right;\">\n",
              "      <th></th>\n",
              "      <th>Date</th>\n",
              "      <th>Cases</th>\n",
              "    </tr>\n",
              "  </thead>\n",
              "  <tbody>\n",
              "    <tr>\n",
              "      <th>0</th>\n",
              "      <td>1/22/20</td>\n",
              "      <td>0</td>\n",
              "    </tr>\n",
              "    <tr>\n",
              "      <th>1</th>\n",
              "      <td>1/23/20</td>\n",
              "      <td>0</td>\n",
              "    </tr>\n",
              "    <tr>\n",
              "      <th>2</th>\n",
              "      <td>1/24/20</td>\n",
              "      <td>0</td>\n",
              "    </tr>\n",
              "    <tr>\n",
              "      <th>3</th>\n",
              "      <td>1/25/20</td>\n",
              "      <td>0</td>\n",
              "    </tr>\n",
              "    <tr>\n",
              "      <th>4</th>\n",
              "      <td>1/26/20</td>\n",
              "      <td>0</td>\n",
              "    </tr>\n",
              "  </tbody>\n",
              "</table>\n",
              "</div>"
            ],
            "text/plain": [
              "      Date  Cases\n",
              "0  1/22/20      0\n",
              "1  1/23/20      0\n",
              "2  1/24/20      0\n",
              "3  1/25/20      0\n",
              "4  1/26/20      0"
            ]
          },
          "metadata": {
            "tags": []
          },
          "execution_count": 76
        }
      ]
    },
    {
      "cell_type": "code",
      "metadata": {
        "id": "r_0orAXPHJKd",
        "colab_type": "code",
        "colab": {
          "base_uri": "https://localhost:8080/",
          "height": 295
        },
        "outputId": "bfa0bad6-587c-4476-803e-f24a08bff093"
      },
      "source": [
        "plt.title(\"Confirmed Cases -India\")\n",
        "plt.xlabel(\"Date\")\n",
        "plt.ylabel(\"Cases\")\n",
        "plt.plot(confirmed_in[\"Date\"], confirmed_in[\"Cases\"])\n",
        "plt.show()"
      ],
      "execution_count": 77,
      "outputs": [
        {
          "output_type": "display_data",
          "data": {
            "image/png": "[encoded data removed]",
            "text/plain": [
              "<Figure size 432x288 with 1 Axes>"
            ]
          },
          "metadata": {
            "tags": [],
            "needs_background": "light"
          }
        }
      ]
    },
    {
      "cell_type": "code",
      "metadata": {
        "id": "KVgK-6RxHJKf",
        "colab_type": "code",
        "colab": {
          "base_uri": "https://localhost:8080/",
          "height": 295
        },
        "outputId": "294178c3-5278-40c2-bf4e-81b0d6a49398"
      },
      "source": [
        "plt.title(\"Deaths - India\")\n",
        "plt.xlabel(\"Date\")\n",
        "plt.ylabel(\"Cases\")\n",
        "plt.plot(deaths_in[\"Date\"], deaths_in[\"Cases\"])\n",
        "plt.show()"
      ],
      "execution_count": 78,
      "outputs": [
        {
          "output_type": "display_data",
          "data": {
            "image/png": "[encoded data removed]",
            "text/plain": [
              "<Figure size 432x288 with 1 Axes>"
            ]
          },
          "metadata": {
            "tags": [],
            "needs_background": "light"
          }
        }
      ]
    },
    {
      "cell_type": "code",
      "metadata": {
        "id": "3_pRjzrBHJKg",
        "colab_type": "code",
        "colab": {
          "base_uri": "https://localhost:8080/",
          "height": 295
        },
        "outputId": "cd2bd2fc-1f65-466b-84cd-5838c4b3b887"
      },
      "source": [
        "plt.title(\"Recovered - India\")\n",
        "plt.xlabel(\"Date\")\n",
        "plt.ylabel(\"Cases\")\n",
        "plt.plot(recovered_in[\"Date\"], recovered_in[\"Cases\"])\n",
        "plt.show()"
      ],
      "execution_count": 79,
      "outputs": [
        {
          "output_type": "display_data",
          "data": {
            "image/png": "[encoded data removed]",
            "text/plain": [
              "<Figure size 432x288 with 1 Axes>"
            ]
          },
          "metadata": {
            "tags": [],
            "needs_background": "light"
          }
        }
      ]
    },
    {
      "cell_type": "code",
      "metadata": {
        "id": "EfmAL8JTHJKi",
        "colab_type": "code",
        "colab": {}
      },
      "source": [
        "def convertToWeekly(df):\n",
        "    new_dates, new_cases = [], []\n",
        "    count = 0\n",
        "\n",
        "    for index, row in df.iterrows():\n",
        "        if (count == 6):\n",
        "            new_dates.append(row[\"Date\"])\n",
        "            new_cases.append(row[\"Cases\"])\n",
        "            count = 0\n",
        "        else:\n",
        "            count += 1\n",
        "    \n",
        "    new_data = {'Date': new_dates, 'Cases': new_cases}\n",
        "    return pd.DataFrame(new_data)"
      ],
      "execution_count": 80,
      "outputs": []
    },
    {
      "cell_type": "code",
      "metadata": {
        "id": "R8n2UC2HHJKj",
        "colab_type": "code",
        "colab": {}
      },
      "source": [
        "confirmed_in_weekly = convertToWeekly(confirmed_in)\n",
        "deaths_in_weekly = convertToWeekly(deaths_in)\n",
        "recovered_in_weekly = convertToWeekly(recovered_in)"
      ],
      "execution_count": 82,
      "outputs": []
    },
    {
      "cell_type": "code",
      "metadata": {
        "id": "0h1aCvLaHJKl",
        "colab_type": "code",
        "colab": {
          "base_uri": "https://localhost:8080/",
          "height": 195
        },
        "outputId": "c482d0da-3a1b-4c8a-ac5d-06421e5e89a4"
      },
      "source": [
        "confirmed_in_weekly.head()"
      ],
      "execution_count": 83,
      "outputs": [
        {
          "output_type": "execute_result",
          "data": {
            "text/html": [
              "<div>\n",
              "<style scoped>\n",
              "    .dataframe tbody tr th:only-of-type {\n",
              "        vertical-align: middle;\n",
              "    }\n",
              "\n",
              "    .dataframe tbody tr th {\n",
              "        vertical-align: top;\n",
              "    }\n",
              "\n",
              "    .dataframe thead th {\n",
              "        text-align: right;\n",
              "    }\n",
              "</style>\n",
              "<table border=\"1\" class=\"dataframe\">\n",
              "  <thead>\n",
              "    <tr style=\"text-align: right;\">\n",
              "      <th></th>\n",
              "      <th>Date</th>\n",
              "      <th>Cases</th>\n",
              "    </tr>\n",
              "  </thead>\n",
              "  <tbody>\n",
              "    <tr>\n",
              "      <th>0</th>\n",
              "      <td>1/28/20</td>\n",
              "      <td>0</td>\n",
              "    </tr>\n",
              "    <tr>\n",
              "      <th>1</th>\n",
              "      <td>2/4/20</td>\n",
              "      <td>3</td>\n",
              "    </tr>\n",
              "    <tr>\n",
              "      <th>2</th>\n",
              "      <td>2/11/20</td>\n",
              "      <td>3</td>\n",
              "    </tr>\n",
              "    <tr>\n",
              "      <th>3</th>\n",
              "      <td>2/18/20</td>\n",
              "      <td>3</td>\n",
              "    </tr>\n",
              "    <tr>\n",
              "      <th>4</th>\n",
              "      <td>2/25/20</td>\n",
              "      <td>3</td>\n",
              "    </tr>\n",
              "  </tbody>\n",
              "</table>\n",
              "</div>"
            ],
            "text/plain": [
              "      Date  Cases\n",
              "0  1/28/20      0\n",
              "1   2/4/20      3\n",
              "2  2/11/20      3\n",
              "3  2/18/20      3\n",
              "4  2/25/20      3"
            ]
          },
          "metadata": {
            "tags": []
          },
          "execution_count": 83
        }
      ]
    },
    {
      "cell_type": "code",
      "metadata": {
        "id": "yBS0MNE3SU1k",
        "colab_type": "code",
        "colab": {
          "base_uri": "https://localhost:8080/",
          "height": 195
        },
        "outputId": "fe34232a-b68d-4927-8b87-31e80596eafc"
      },
      "source": [
        "confirmed_in_weekly.tail()"
      ],
      "execution_count": 84,
      "outputs": [
        {
          "output_type": "execute_result",
          "data": {
            "text/html": [
              "<div>\n",
              "<style scoped>\n",
              "    .dataframe tbody tr th:only-of-type {\n",
              "        vertical-align: middle;\n",
              "    }\n",
              "\n",
              "    .dataframe tbody tr th {\n",
              "        vertical-align: top;\n",
              "    }\n",
              "\n",
              "    .dataframe thead th {\n",
              "        text-align: right;\n",
              "    }\n",
              "</style>\n",
              "<table border=\"1\" class=\"dataframe\">\n",
              "  <thead>\n",
              "    <tr style=\"text-align: right;\">\n",
              "      <th></th>\n",
              "      <th>Date</th>\n",
              "      <th>Cases</th>\n",
              "    </tr>\n",
              "  </thead>\n",
              "  <tbody>\n",
              "    <tr>\n",
              "      <th>10</th>\n",
              "      <td>4/7/20</td>\n",
              "      <td>5311</td>\n",
              "    </tr>\n",
              "    <tr>\n",
              "      <th>11</th>\n",
              "      <td>4/14/20</td>\n",
              "      <td>11487</td>\n",
              "    </tr>\n",
              "    <tr>\n",
              "      <th>12</th>\n",
              "      <td>4/21/20</td>\n",
              "      <td>20080</td>\n",
              "    </tr>\n",
              "    <tr>\n",
              "      <th>13</th>\n",
              "      <td>4/28/20</td>\n",
              "      <td>31324</td>\n",
              "    </tr>\n",
              "    <tr>\n",
              "      <th>14</th>\n",
              "      <td>5/5/20</td>\n",
              "      <td>49400</td>\n",
              "    </tr>\n",
              "  </tbody>\n",
              "</table>\n",
              "</div>"
            ],
            "text/plain": [
              "       Date  Cases\n",
              "10   4/7/20   5311\n",
              "11  4/14/20  11487\n",
              "12  4/21/20  20080\n",
              "13  4/28/20  31324\n",
              "14   5/5/20  49400"
            ]
          },
          "metadata": {
            "tags": []
          },
          "execution_count": 84
        }
      ]
    },
    {
      "cell_type": "code",
      "metadata": {
        "id": "ru5XzaKBHJKm",
        "colab_type": "code",
        "colab": {}
      },
      "source": [
        "dates = list(confirmed_in_weekly[\"Date\"].values)"
      ],
      "execution_count": 85,
      "outputs": []
    },
    {
      "cell_type": "code",
      "metadata": {
        "id": "3Wwi43viHJKn",
        "colab_type": "code",
        "colab": {}
      },
      "source": [
        "# I realize that this is an incredibly inefficient function\n",
        "def getWeeklyResults(df):\n",
        "    results_list = []\n",
        "\n",
        "    for date in dates:\n",
        "        month = date[0:1]\n",
        "        day = \"\"\n",
        "        \n",
        "        if len(date) == 7:\n",
        "            day = date[2:4]\n",
        "        else:\n",
        "            day = date[2:3]\n",
        "                \n",
        "        date_results = []\n",
        "    \n",
        "        for index, row in df.iterrows():\n",
        "            tweet_date = row[\"Date\"]\n",
        "            tweet_month = date[0:1]\n",
        "            tweet_day = \"\" \n",
        "            \n",
        "            if len(tweet_date) == 7:\n",
        "                tweet_day = tweet_date[2:4]\n",
        "            else:\n",
        "                tweet_day = tweet_date[2:3]\n",
        "            \n",
        "            if tweet_month <= month:\n",
        "                if tweet_day <= day:\n",
        "                    date_results.append(row[\"Ensemble\"])\n",
        "        \n",
        "        results_list.append(date_results)\n",
        "    \n",
        "    return results_list"
      ],
      "execution_count": 86,
      "outputs": []
    },
    {
      "cell_type": "code",
      "metadata": {
        "id": "tJQHZ-6AHJKp",
        "colab_type": "code",
        "colab": {}
      },
      "source": [
        "weekly_results = getWeeklyResults(data)"
      ],
      "execution_count": 87,
      "outputs": []
    },
    {
      "cell_type": "code",
      "metadata": {
        "id": "pJNFDU9zHJKs",
        "colab_type": "code",
        "colab": {
          "base_uri": "https://localhost:8080/",
          "height": 34
        },
        "outputId": "6d640ad6-fe5f-4cfc-da82-e21b8230b54f"
      },
      "source": [
        "print(len(weekly_results[7]))"
      ],
      "execution_count": 88,
      "outputs": [
        {
          "output_type": "stream",
          "text": [
            "2658\n"
          ],
          "name": "stdout"
        }
      ]
    },
    {
      "cell_type": "code",
      "metadata": {
        "id": "AEOAOTOVHJKt",
        "colab_type": "code",
        "colab": {}
      },
      "source": [
        "week_counts = {}\n",
        "for i in range(len(weekly_results)):\n",
        "    if (len(weekly_results[i]) != 0):\n",
        "        date = dates[i]\n",
        "        total_count = len(weekly_results[i])\n",
        "        counter = Counter(weekly_results[i])\n",
        "        positive_percent = counter[\"positive\"] / total_count\n",
        "        neutral_percent = counter[\"neutral\"] / total_count\n",
        "        negative_percent = counter[\"negative\"] / total_count\n",
        "        irrelevant_percent = counter[\"irrelevant\"] / total_count\n",
        "        week_counts[date] = [total_count, positive_percent, neutral_percent, negative_percent]"
      ],
      "execution_count": 89,
      "outputs": []
    },
    {
      "cell_type": "code",
      "metadata": {
        "id": "q6tYBeBSHJKu",
        "colab_type": "code",
        "colab": {
          "base_uri": "https://localhost:8080/",
          "height": 386
        },
        "outputId": "c3edcab6-10e9-426f-d455-57b2c5679118"
      },
      "source": [
        "week_counts"
      ],
      "execution_count": 90,
      "outputs": [
        {
          "output_type": "execute_result",
          "data": {
            "text/plain": [
              "{'1/28/20': [5000, 0.219, 0.159, 0.084],\n",
              " '2/18/20': [3866,\n",
              "  0.21857216761510606,\n",
              "  0.16839110191412313,\n",
              "  0.08872219348163476],\n",
              " '2/25/20': [5000, 0.219, 0.159, 0.084],\n",
              " '2/4/20': [5551,\n",
              "  0.2179787425689065,\n",
              "  0.15582777877859846,\n",
              "  0.08557016753738066],\n",
              " '3/17/20': [2658,\n",
              "  0.22234762979683972,\n",
              "  0.17381489841986456,\n",
              "  0.09857035364936043],\n",
              " '3/24/20': [5000, 0.219, 0.159, 0.084],\n",
              " '3/3/20': [5000, 0.219, 0.159, 0.084],\n",
              " '3/31/20': [5000, 0.219, 0.159, 0.084],\n",
              " '4/14/20': [2500, 0.2268, 0.1756, 0.0992],\n",
              " '4/21/20': [5000, 0.219, 0.159, 0.084],\n",
              " '4/28/20': [5000, 0.219, 0.159, 0.084],\n",
              " '4/7/20': [7500, 0.2212, 0.15213333333333334, 0.08293333333333333],\n",
              " '5/5/20': [7500, 0.2212, 0.15213333333333334, 0.08293333333333333]}"
            ]
          },
          "metadata": {
            "tags": []
          },
          "execution_count": 90
        }
      ]
    },
    {
      "cell_type": "code",
      "metadata": {
        "id": "f0kRsQdvHJKw",
        "colab_type": "code",
        "colab": {}
      },
      "source": [
        "def normalize(df):\n",
        "    df[\"Normalized\"] = (df[\"Cases\"] - df[\"Cases\"].min()) / (df[\"Cases\"].max() - df[\"Cases\"].min())\n",
        "    return df"
      ],
      "execution_count": 91,
      "outputs": []
    },
    {
      "cell_type": "code",
      "metadata": {
        "id": "52pS1-61HJKx",
        "colab_type": "code",
        "colab": {}
      },
      "source": [
        "for df in [confirmed_in_weekly, recovered_in_weekly, deaths_in_weekly]:\n",
        "    df = normalize(df)"
      ],
      "execution_count": 92,
      "outputs": []
    },
    {
      "cell_type": "code",
      "metadata": {
        "id": "2HN2KW1JHJKy",
        "colab_type": "code",
        "colab": {
          "base_uri": "https://localhost:8080/",
          "height": 195
        },
        "outputId": "5ad16885-1fee-4565-94f9-00cc69f5a38b"
      },
      "source": [
        "recovered_in.tail()"
      ],
      "execution_count": 93,
      "outputs": [
        {
          "output_type": "execute_result",
          "data": {
            "text/html": [
              "<div>\n",
              "<style scoped>\n",
              "    .dataframe tbody tr th:only-of-type {\n",
              "        vertical-align: middle;\n",
              "    }\n",
              "\n",
              "    .dataframe tbody tr th {\n",
              "        vertical-align: top;\n",
              "    }\n",
              "\n",
              "    .dataframe thead th {\n",
              "        text-align: right;\n",
              "    }\n",
              "</style>\n",
              "<table border=\"1\" class=\"dataframe\">\n",
              "  <thead>\n",
              "    <tr style=\"text-align: right;\">\n",
              "      <th></th>\n",
              "      <th>Date</th>\n",
              "      <th>Cases</th>\n",
              "    </tr>\n",
              "  </thead>\n",
              "  <tbody>\n",
              "    <tr>\n",
              "      <th>105</th>\n",
              "      <td>5/6/20</td>\n",
              "      <td>15331</td>\n",
              "    </tr>\n",
              "    <tr>\n",
              "      <th>106</th>\n",
              "      <td>5/7/20</td>\n",
              "      <td>16776</td>\n",
              "    </tr>\n",
              "    <tr>\n",
              "      <th>107</th>\n",
              "      <td>5/8/20</td>\n",
              "      <td>17887</td>\n",
              "    </tr>\n",
              "    <tr>\n",
              "      <th>108</th>\n",
              "      <td>5/9/20</td>\n",
              "      <td>19301</td>\n",
              "    </tr>\n",
              "    <tr>\n",
              "      <th>109</th>\n",
              "      <td>5/10/20</td>\n",
              "      <td>20969</td>\n",
              "    </tr>\n",
              "  </tbody>\n",
              "</table>\n",
              "</div>"
            ],
            "text/plain": [
              "        Date  Cases\n",
              "105   5/6/20  15331\n",
              "106   5/7/20  16776\n",
              "107   5/8/20  17887\n",
              "108   5/9/20  19301\n",
              "109  5/10/20  20969"
            ]
          },
          "metadata": {
            "tags": []
          },
          "execution_count": 93
        }
      ]
    },
    {
      "cell_type": "code",
      "metadata": {
        "scrolled": true,
        "id": "DuGDuQk8HJKz",
        "colab_type": "code",
        "colab": {}
      },
      "source": [
        "def clean(df):\n",
        "    for index, row in df.iterrows():\n",
        "        if row[\"Date\"] not in week_counts:\n",
        "            df = df[df.Date != row[\"Date\"]]\n",
        "    return df"
      ],
      "execution_count": 94,
      "outputs": []
    },
    {
      "cell_type": "code",
      "metadata": {
        "id": "LS_oSJf8HJK0",
        "colab_type": "code",
        "colab": {}
      },
      "source": [
        "confirmed_in_weekly = clean(confirmed_in_weekly)\n",
        "recovered_in_weekly = clean(recovered_in_weekly)\n",
        "deaths_in_weekly = clean(deaths_in_weekly)"
      ],
      "execution_count": 95,
      "outputs": []
    },
    {
      "cell_type": "code",
      "metadata": {
        "id": "RlHRf_uiHJK2",
        "colab_type": "code",
        "colab": {}
      },
      "source": [
        "def addTweetSentiment(df, i):\n",
        "    sentiment_list = []\n",
        "    \n",
        "    for index, row in df.iterrows():\n",
        "        if row[\"Date\"] in week_counts:\n",
        "            sentiments = week_counts[row[\"Date\"]]\n",
        "            sentiment_list.append(sentiments[i])\n",
        "        \n",
        "    df[str(i)] = sentiment_list\n",
        "    return df"
      ],
      "execution_count": 96,
      "outputs": []
    },
    {
      "cell_type": "code",
      "metadata": {
        "id": "ZxbiM0koHJK3",
        "colab_type": "code",
        "colab": {}
      },
      "source": [
        "for i in range(1, 4, 1):\n",
        "    confirmed_in_weekly = addTweetSentiment(confirmed_in_weekly, i)\n",
        "    recovered_in_weekly = addTweetSentiment(recovered_in_weekly, i)\n",
        "    deaths_in_weekly = addTweetSentiment(deaths_in_weekly, i)"
      ],
      "execution_count": 97,
      "outputs": []
    },
    {
      "cell_type": "code",
      "metadata": {
        "id": "-JcmY80BHJK4",
        "colab_type": "code",
        "colab": {
          "base_uri": "https://localhost:8080/",
          "height": 195
        },
        "outputId": "f71d6117-7b39-4295-9e70-9faee9206eda"
      },
      "source": [
        "confirmed_in_weekly.head()"
      ],
      "execution_count": 98,
      "outputs": [
        {
          "output_type": "execute_result",
          "data": {
            "text/html": [
              "<div>\n",
              "<style scoped>\n",
              "    .dataframe tbody tr th:only-of-type {\n",
              "        vertical-align: middle;\n",
              "    }\n",
              "\n",
              "    .dataframe tbody tr th {\n",
              "        vertical-align: top;\n",
              "    }\n",
              "\n",
              "    .dataframe thead th {\n",
              "        text-align: right;\n",
              "    }\n",
              "</style>\n",
              "<table border=\"1\" class=\"dataframe\">\n",
              "  <thead>\n",
              "    <tr style=\"text-align: right;\">\n",
              "      <th></th>\n",
              "      <th>Date</th>\n",
              "      <th>Cases</th>\n",
              "      <th>Normalized</th>\n",
              "      <th>1</th>\n",
              "      <th>2</th>\n",
              "      <th>3</th>\n",
              "    </tr>\n",
              "  </thead>\n",
              "  <tbody>\n",
              "    <tr>\n",
              "      <th>0</th>\n",
              "      <td>1/28/20</td>\n",
              "      <td>0</td>\n",
              "      <td>0.000000</td>\n",
              "      <td>0.219000</td>\n",
              "      <td>0.159000</td>\n",
              "      <td>0.084000</td>\n",
              "    </tr>\n",
              "    <tr>\n",
              "      <th>1</th>\n",
              "      <td>2/4/20</td>\n",
              "      <td>3</td>\n",
              "      <td>0.000061</td>\n",
              "      <td>0.217979</td>\n",
              "      <td>0.155828</td>\n",
              "      <td>0.085570</td>\n",
              "    </tr>\n",
              "    <tr>\n",
              "      <th>3</th>\n",
              "      <td>2/18/20</td>\n",
              "      <td>3</td>\n",
              "      <td>0.000061</td>\n",
              "      <td>0.218572</td>\n",
              "      <td>0.168391</td>\n",
              "      <td>0.088722</td>\n",
              "    </tr>\n",
              "    <tr>\n",
              "      <th>4</th>\n",
              "      <td>2/25/20</td>\n",
              "      <td>3</td>\n",
              "      <td>0.000061</td>\n",
              "      <td>0.219000</td>\n",
              "      <td>0.159000</td>\n",
              "      <td>0.084000</td>\n",
              "    </tr>\n",
              "    <tr>\n",
              "      <th>5</th>\n",
              "      <td>3/3/20</td>\n",
              "      <td>5</td>\n",
              "      <td>0.000101</td>\n",
              "      <td>0.219000</td>\n",
              "      <td>0.159000</td>\n",
              "      <td>0.084000</td>\n",
              "    </tr>\n",
              "  </tbody>\n",
              "</table>\n",
              "</div>"
            ],
            "text/plain": [
              "      Date  Cases  Normalized         1         2         3\n",
              "0  1/28/20      0    0.000000  0.219000  0.159000  0.084000\n",
              "1   2/4/20      3    0.000061  0.217979  0.155828  0.085570\n",
              "3  2/18/20      3    0.000061  0.218572  0.168391  0.088722\n",
              "4  2/25/20      3    0.000061  0.219000  0.159000  0.084000\n",
              "5   3/3/20      5    0.000101  0.219000  0.159000  0.084000"
            ]
          },
          "metadata": {
            "tags": []
          },
          "execution_count": 98
        }
      ]
    },
    {
      "cell_type": "code",
      "metadata": {
        "id": "UdmzEWpCHJK6",
        "colab_type": "code",
        "colab": {
          "base_uri": "https://localhost:8080/",
          "height": 350
        },
        "outputId": "58a74c52-9f03-4b32-f0d0-225ba0039495"
      },
      "source": [
        "plt.rcParams[\"figure.figsize\"] = (8,5)\n",
        "\n",
        "plt.title(\"Tweets and Confirmed Cases - India\")\n",
        "plt.xlabel(\"Date\")\n",
        "plt.ylabel(\"Percent\")\n",
        "\n",
        "plt.plot(confirmed_in_weekly[\"Date\"], confirmed_in_weekly[\"Normalized\"])\n",
        "for i in range(1, 4, 1):\n",
        "    plt.plot(confirmed_in_weekly[\"Date\"], confirmed_in_weekly[str(i)])\n",
        "plt.legend([\"Confirmed Cases\", \"Positive Tweets\", \"Neutral Tweets\", \"Negative Tweets\"])\n",
        "\n",
        "plt.show()"
      ],
      "execution_count": 106,
      "outputs": [
        {
          "output_type": "display_data",
          "data": {
            "image/png": "[encoded data removed]",
            "text/plain": [
              "<Figure size 576x360 with 1 Axes>"
            ]
          },
          "metadata": {
            "tags": [],
            "needs_background": "light"
          }
        }
      ]
    },
    {
      "cell_type": "code",
      "metadata": {
        "id": "6P8Ov8rmHJK7",
        "colab_type": "code",
        "colab": {
          "base_uri": "https://localhost:8080/",
          "height": 350
        },
        "outputId": "c231c392-5375-4317-cdfb-6580e74521b6"
      },
      "source": [
        "plt.rcParams[\"figure.figsize\"] = (8,5)\n",
        "\n",
        "plt.title(\"Tweets and Deaths - India\")\n",
        "plt.xlabel(\"Date\")\n",
        "plt.ylabel(\"Percent\")\n",
        "\n",
        "plt.plot(confirmed_in_weekly[\"Date\"], confirmed_in_weekly[\"Normalized\"])\n",
        "for i in range(1, 4, 1):\n",
        "    plt.plot(confirmed_in_weekly[\"Date\"], confirmed_in_weekly[str(i)])\n",
        "plt.legend([\"Confirmed Cases\", \"Positive Tweets\", \"Neutral Tweets\", \"Negative Tweets\"])\n",
        "\n",
        "plt.show()"
      ],
      "execution_count": 108,
      "outputs": [
        {
          "output_type": "display_data",
          "data": {
            "image/png": "[encoded data removed]",
            "text/plain": [
              "<Figure size 576x360 with 1 Axes>"
            ]
          },
          "metadata": {
            "tags": [],
            "needs_background": "light"
          }
        }
      ]
    },
    {
      "cell_type": "code",
      "metadata": {
        "id": "LUwXaUQvHJK-",
        "colab_type": "code",
        "colab": {
          "base_uri": "https://localhost:8080/",
          "height": 350
        },
        "outputId": "df88eb6b-a1ea-45d7-cb3e-e0a8535e2bbf"
      },
      "source": [
        "plt.rcParams[\"figure.figsize\"] = (8,5)\n",
        "\n",
        "plt.title(\"Tweets and Recovered - India\")\n",
        "plt.xlabel(\"Date\")\n",
        "plt.ylabel(\"Percent\")\n",
        "\n",
        "plt.plot(confirmed_in_weekly[\"Date\"], confirmed_in_weekly[\"Normalized\"])\n",
        "for i in range(1, 4, 1):\n",
        "    plt.plot(confirmed_in_weekly[\"Date\"], confirmed_in_weekly[str(i)])\n",
        "plt.legend([\"Confirmed Cases\", \"Positive Tweets\", \"Neutral Tweets\", \"Negative Tweets\"])\n",
        "\n",
        "plt.show()"
      ],
      "execution_count": 109,
      "outputs": [
        {
          "output_type": "display_data",
          "data": {
            "image/png": "[encoded data removed]",
            "text/plain": [
              "<Figure size 576x360 with 1 Axes>"
            ]
          },
          "metadata": {
            "tags": [],
            "needs_background": "light"
          }
        }
      ]
    },
    {
      "cell_type": "code",
      "metadata": {
        "id": "TFpmb5wEHJK_",
        "colab_type": "code",
        "colab": {}
      },
      "source": [
        "confirmed_in_weekly = confirmed_in_weekly.rename(columns = {\"1\": \"Positive Sentiment\", \"2\": \"Neutral Sentiment\", \"3\": \"Negative Sentiment\"})\n",
        "recovered_in_weekly = recovered_in_weekly.rename(columns = {\"1\": \"Positive Sentiment\", \"2\": \"Neutral Sentiment\", \"3\": \"Negative Sentiment\"})\n",
        "deaths_in_weekly = deaths_in_weekly.rename(columns = {\"1\": \"Positive Sentiment\", \"2\": \"Neutral Sentiment\", \"3\": \"Negative Sentiment\"})"
      ],
      "execution_count": 110,
      "outputs": []
    },
    {
      "cell_type": "code",
      "metadata": {
        "id": "cY_jaPypHJLA",
        "colab_type": "code",
        "colab": {
          "base_uri": "https://localhost:8080/",
          "height": 195
        },
        "outputId": "8b03d964-0ffa-4059-f5f8-990350c73cf9"
      },
      "source": [
        "confirmed_in_weekly.corr()"
      ],
      "execution_count": 114,
      "outputs": [
        {
          "output_type": "execute_result",
          "data": {
            "text/html": [
              "<div>\n",
              "<style scoped>\n",
              "    .dataframe tbody tr th:only-of-type {\n",
              "        vertical-align: middle;\n",
              "    }\n",
              "\n",
              "    .dataframe tbody tr th {\n",
              "        vertical-align: top;\n",
              "    }\n",
              "\n",
              "    .dataframe thead th {\n",
              "        text-align: right;\n",
              "    }\n",
              "</style>\n",
              "<table border=\"1\" class=\"dataframe\">\n",
              "  <thead>\n",
              "    <tr style=\"text-align: right;\">\n",
              "      <th></th>\n",
              "      <th>Cases</th>\n",
              "      <th>Normalized</th>\n",
              "      <th>Positive Sentiment</th>\n",
              "      <th>Neutral Sentiment</th>\n",
              "      <th>Negative Sentiment</th>\n",
              "    </tr>\n",
              "  </thead>\n",
              "  <tbody>\n",
              "    <tr>\n",
              "      <th>Cases</th>\n",
              "      <td>1.000000</td>\n",
              "      <td>1.000000</td>\n",
              "      <td>0.182485</td>\n",
              "      <td>-0.295673</td>\n",
              "      <td>-0.184889</td>\n",
              "    </tr>\n",
              "    <tr>\n",
              "      <th>Normalized</th>\n",
              "      <td>1.000000</td>\n",
              "      <td>1.000000</td>\n",
              "      <td>0.182485</td>\n",
              "      <td>-0.295673</td>\n",
              "      <td>-0.184889</td>\n",
              "    </tr>\n",
              "    <tr>\n",
              "      <th>Positive Sentiment</th>\n",
              "      <td>0.182485</td>\n",
              "      <td>0.182485</td>\n",
              "      <td>1.000000</td>\n",
              "      <td>0.585380</td>\n",
              "      <td>0.760407</td>\n",
              "    </tr>\n",
              "    <tr>\n",
              "      <th>Neutral Sentiment</th>\n",
              "      <td>-0.295673</td>\n",
              "      <td>-0.295673</td>\n",
              "      <td>0.585380</td>\n",
              "      <td>1.000000</td>\n",
              "      <td>0.927522</td>\n",
              "    </tr>\n",
              "    <tr>\n",
              "      <th>Negative Sentiment</th>\n",
              "      <td>-0.184889</td>\n",
              "      <td>-0.184889</td>\n",
              "      <td>0.760407</td>\n",
              "      <td>0.927522</td>\n",
              "      <td>1.000000</td>\n",
              "    </tr>\n",
              "  </tbody>\n",
              "</table>\n",
              "</div>"
            ],
            "text/plain": [
              "                       Cases  Normalized  ...  Neutral Sentiment  Negative Sentiment\n",
              "Cases               1.000000    1.000000  ...          -0.295673           -0.184889\n",
              "Normalized          1.000000    1.000000  ...          -0.295673           -0.184889\n",
              "Positive Sentiment  0.182485    0.182485  ...           0.585380            0.760407\n",
              "Neutral Sentiment  -0.295673   -0.295673  ...           1.000000            0.927522\n",
              "Negative Sentiment -0.184889   -0.184889  ...           0.927522            1.000000\n",
              "\n",
              "[5 rows x 5 columns]"
            ]
          },
          "metadata": {
            "tags": []
          },
          "execution_count": 114
        }
      ]
    },
    {
      "cell_type": "code",
      "metadata": {
        "id": "J5szaJr5HJLB",
        "colab_type": "code",
        "colab": {
          "base_uri": "https://localhost:8080/",
          "height": 195
        },
        "outputId": "d3459e4d-5290-451c-c24b-f319ca1551c1"
      },
      "source": [
        "recovered_in_weekly.corr()"
      ],
      "execution_count": 115,
      "outputs": [
        {
          "output_type": "execute_result",
          "data": {
            "text/html": [
              "<div>\n",
              "<style scoped>\n",
              "    .dataframe tbody tr th:only-of-type {\n",
              "        vertical-align: middle;\n",
              "    }\n",
              "\n",
              "    .dataframe tbody tr th {\n",
              "        vertical-align: top;\n",
              "    }\n",
              "\n",
              "    .dataframe thead th {\n",
              "        text-align: right;\n",
              "    }\n",
              "</style>\n",
              "<table border=\"1\" class=\"dataframe\">\n",
              "  <thead>\n",
              "    <tr style=\"text-align: right;\">\n",
              "      <th></th>\n",
              "      <th>Cases</th>\n",
              "      <th>Normalized</th>\n",
              "      <th>Positive Sentiment</th>\n",
              "      <th>Neutral Sentiment</th>\n",
              "      <th>Negative Sentiment</th>\n",
              "    </tr>\n",
              "  </thead>\n",
              "  <tbody>\n",
              "    <tr>\n",
              "      <th>Cases</th>\n",
              "      <td>1.000000</td>\n",
              "      <td>1.000000</td>\n",
              "      <td>0.102878</td>\n",
              "      <td>-0.342477</td>\n",
              "      <td>-0.233100</td>\n",
              "    </tr>\n",
              "    <tr>\n",
              "      <th>Normalized</th>\n",
              "      <td>1.000000</td>\n",
              "      <td>1.000000</td>\n",
              "      <td>0.102878</td>\n",
              "      <td>-0.342477</td>\n",
              "      <td>-0.233100</td>\n",
              "    </tr>\n",
              "    <tr>\n",
              "      <th>Positive Sentiment</th>\n",
              "      <td>0.102878</td>\n",
              "      <td>0.102878</td>\n",
              "      <td>1.000000</td>\n",
              "      <td>0.585380</td>\n",
              "      <td>0.760407</td>\n",
              "    </tr>\n",
              "    <tr>\n",
              "      <th>Neutral Sentiment</th>\n",
              "      <td>-0.342477</td>\n",
              "      <td>-0.342477</td>\n",
              "      <td>0.585380</td>\n",
              "      <td>1.000000</td>\n",
              "      <td>0.927522</td>\n",
              "    </tr>\n",
              "    <tr>\n",
              "      <th>Negative Sentiment</th>\n",
              "      <td>-0.233100</td>\n",
              "      <td>-0.233100</td>\n",
              "      <td>0.760407</td>\n",
              "      <td>0.927522</td>\n",
              "      <td>1.000000</td>\n",
              "    </tr>\n",
              "  </tbody>\n",
              "</table>\n",
              "</div>"
            ],
            "text/plain": [
              "                       Cases  Normalized  ...  Neutral Sentiment  Negative Sentiment\n",
              "Cases               1.000000    1.000000  ...          -0.342477           -0.233100\n",
              "Normalized          1.000000    1.000000  ...          -0.342477           -0.233100\n",
              "Positive Sentiment  0.102878    0.102878  ...           0.585380            0.760407\n",
              "Neutral Sentiment  -0.342477   -0.342477  ...           1.000000            0.927522\n",
              "Negative Sentiment -0.233100   -0.233100  ...           0.927522            1.000000\n",
              "\n",
              "[5 rows x 5 columns]"
            ]
          },
          "metadata": {
            "tags": []
          },
          "execution_count": 115
        }
      ]
    },
    {
      "cell_type": "code",
      "metadata": {
        "id": "Yk9bcqPqHJLD",
        "colab_type": "code",
        "colab": {
          "base_uri": "https://localhost:8080/",
          "height": 195
        },
        "outputId": "cce24f79-3e99-4982-9d56-d693ebb1f370"
      },
      "source": [
        "deaths_in_weekly.corr()"
      ],
      "execution_count": 117,
      "outputs": [
        {
          "output_type": "execute_result",
          "data": {
            "text/html": [
              "<div>\n",
              "<style scoped>\n",
              "    .dataframe tbody tr th:only-of-type {\n",
              "        vertical-align: middle;\n",
              "    }\n",
              "\n",
              "    .dataframe tbody tr th {\n",
              "        vertical-align: top;\n",
              "    }\n",
              "\n",
              "    .dataframe thead th {\n",
              "        text-align: right;\n",
              "    }\n",
              "</style>\n",
              "<table border=\"1\" class=\"dataframe\">\n",
              "  <thead>\n",
              "    <tr style=\"text-align: right;\">\n",
              "      <th></th>\n",
              "      <th>Cases</th>\n",
              "      <th>Normalized</th>\n",
              "      <th>Positive Sentiment</th>\n",
              "      <th>Neutral Sentiment</th>\n",
              "      <th>Negative Sentiment</th>\n",
              "    </tr>\n",
              "  </thead>\n",
              "  <tbody>\n",
              "    <tr>\n",
              "      <th>Cases</th>\n",
              "      <td>1.000000</td>\n",
              "      <td>1.000000</td>\n",
              "      <td>0.191877</td>\n",
              "      <td>-0.289816</td>\n",
              "      <td>-0.175757</td>\n",
              "    </tr>\n",
              "    <tr>\n",
              "      <th>Normalized</th>\n",
              "      <td>1.000000</td>\n",
              "      <td>1.000000</td>\n",
              "      <td>0.191877</td>\n",
              "      <td>-0.289816</td>\n",
              "      <td>-0.175757</td>\n",
              "    </tr>\n",
              "    <tr>\n",
              "      <th>Positive Sentiment</th>\n",
              "      <td>0.191877</td>\n",
              "      <td>0.191877</td>\n",
              "      <td>1.000000</td>\n",
              "      <td>0.585380</td>\n",
              "      <td>0.760407</td>\n",
              "    </tr>\n",
              "    <tr>\n",
              "      <th>Neutral Sentiment</th>\n",
              "      <td>-0.289816</td>\n",
              "      <td>-0.289816</td>\n",
              "      <td>0.585380</td>\n",
              "      <td>1.000000</td>\n",
              "      <td>0.927522</td>\n",
              "    </tr>\n",
              "    <tr>\n",
              "      <th>Negative Sentiment</th>\n",
              "      <td>-0.175757</td>\n",
              "      <td>-0.175757</td>\n",
              "      <td>0.760407</td>\n",
              "      <td>0.927522</td>\n",
              "      <td>1.000000</td>\n",
              "    </tr>\n",
              "  </tbody>\n",
              "</table>\n",
              "</div>"
            ],
            "text/plain": [
              "                       Cases  Normalized  ...  Neutral Sentiment  Negative Sentiment\n",
              "Cases               1.000000    1.000000  ...          -0.289816           -0.175757\n",
              "Normalized          1.000000    1.000000  ...          -0.289816           -0.175757\n",
              "Positive Sentiment  0.191877    0.191877  ...           0.585380            0.760407\n",
              "Neutral Sentiment  -0.289816   -0.289816  ...           1.000000            0.927522\n",
              "Negative Sentiment -0.175757   -0.175757  ...           0.927522            1.000000\n",
              "\n",
              "[5 rows x 5 columns]"
            ]
          },
          "metadata": {
            "tags": []
          },
          "execution_count": 117
        }
      ]
    },
    {
      "cell_type": "code",
      "metadata": {
        "id": "xdjTb49FW60D",
        "colab_type": "code",
        "colab": {
          "base_uri": "https://localhost:8080/",
          "height": 646
        },
        "outputId": "d9c990e6-9210-4328-ce5c-ce48093eb589"
      },
      "source": [
        "import seaborn as sns\n",
        "f, ax=plt.subplots(figsize=(10,8))\n",
        "corr=deaths_in_weekly.corr()\n",
        "sns.heatmap(corr,mask=np.zeros_like(corr,dtype=np.bool),cmap=sns.diverging_palette(240,10,as_cmap=True),square=True,ax=ax)"
      ],
      "execution_count": 119,
      "outputs": [
        {
          "output_type": "stream",
          "text": [
            "/usr/local/lib/python3.6/dist-packages/statsmodels/tools/_testing.py:19: FutureWarning: pandas.util.testing is deprecated. Use the functions in the public API at pandas.testing instead.\n",
            "  import pandas.util.testing as tm\n"
          ],
          "name": "stderr"
        },
        {
          "output_type": "execute_result",
          "data": {
            "text/plain": [
              "<matplotlib.axes._subplots.AxesSubplot at 0x7feaf86ab208>"
            ]
          },
          "metadata": {
            "tags": []
          },
          "execution_count": 119
        },
        {
          "output_type": "display_data",
          "data": {
            "image/png": "[encoded data removed]",
            "text/plain": [
              "<Figure size 720x576 with 2 Axes>"
            ]
          },
          "metadata": {
            "tags": [],
            "needs_background": "light"
          }
        }
      ]
    },
    {
      "cell_type": "code",
      "metadata": {
        "id": "zTS5GeRXXP8f",
        "colab_type": "code",
        "colab": {
          "base_uri": "https://localhost:8080/",
          "height": 430
        },
        "outputId": "129f9e39-761a-447e-8d0f-c15d2781ba75"
      },
      "source": [
        "import seaborn as sns\n",
        "f, ax=plt.subplots(figsize=(8,5))\n",
        "corr=recovered_in_weekly.corr()\n",
        "sns.heatmap(corr,mask=np.zeros_like(corr,dtype=np.bool),cmap=sns.diverging_palette(240,10,as_cmap=True),square=True,ax=ax)"
      ],
      "execution_count": 121,
      "outputs": [
        {
          "output_type": "execute_result",
          "data": {
            "text/plain": [
              "<matplotlib.axes._subplots.AxesSubplot at 0x7feaf8a8a518>"
            ]
          },
          "metadata": {
            "tags": []
          },
          "execution_count": 121
        },
        {
          "output_type": "display_data",
          "data": {
            "image/png": "[encoded data removed]",
            "text/plain": [
              "<Figure size 576x360 with 2 Axes>"
            ]
          },
          "metadata": {
            "tags": [],
            "needs_background": "light"
          }
        }
      ]
    }
  ]
}